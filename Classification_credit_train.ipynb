{
 "cells": [
  {
   "cell_type": "markdown",
   "id": "a3752f6f",
   "metadata": {},
   "source": [
    "## Credit Data Set\n",
    "## Extract-Transform-Load (ETL)\n",
    "## Machine Learning Algorithms for Classification"
   ]
  },
  {
   "cell_type": "markdown",
   "id": "464f165d",
   "metadata": {},
   "source": [
    "Сначала импортируем необходимые библиотеки:"
   ]
  },
  {
   "cell_type": "code",
   "execution_count": 1,
   "id": "c57d6ef2",
   "metadata": {},
   "outputs": [],
   "source": [
    "import numpy as np              # Одномерные и многомерные массивы (array)\n",
    "import pandas as pd             # Таблицы и временные ряды (dataframe, series)\n",
    "import matplotlib.pyplot as plt # Научная графика\n",
    "import seaborn as sns           # Еще больше красивой графики для визуализации данных\n",
    "import sklearn                  # Алгоритмы машинного обучения"
   ]
  },
  {
   "cell_type": "markdown",
   "id": "c199313e",
   "metadata": {},
   "source": [
    "## 0. Описание задачи"
   ]
  },
  {
   "cell_type": "markdown",
   "id": "41e6be8f",
   "metadata": {},
   "source": [
    "Мы рассмотрим исходную выборку, которая содержит записи о клиентах, классифицированных на два класса: `'0'` - клиент не открыл кредитный счет в банке и `'1'` - клиент открыл счет в банке. Сначала мы подготовим данные, чтобы они были понятны и правильно проанализированы машиной. Затем мы создадим классификатор, чтобы предсказать кто не откроет кредитного счета, и тех, кто его откроет, используя признаки."
   ]
  },
  {
   "cell_type": "markdown",
   "id": "5a1fc1fd",
   "metadata": {},
   "source": [
    "### По каждому наблюдению (клиенту) фиксируются 15 исходных переменных:\n",
    " - `'client_id'` - Идентификационный номер\n",
    " - `'gender'` - Пол\n",
    " - `'age'` - Возраст\n",
    " - `'marital_status'` - Семейный статус\n",
    " - `'job_position'` - Сфера занятости\n",
    " - `'credit_sum'` - Сумма кредита\n",
    " - `'credit_month'` - Срок кредитования\n",
    " - `'tariff_id'` - Идентификационный номер тарифа\n",
    " - `'score_shk'` - Внутренняя скоринговая оценка\n",
    " - `'education'` - Образование\n",
    " - `'living_region'` - Регион проживания\n",
    " - `'monthly_income'` - Месячный заработок\n",
    " - `'credit_count'` - Количество кредитов у клиента\n",
    " - `'overdue_credit_count'` - Количество просроченных кредитов у клиента\n",
    " - `'open_account_flg'` - Факт открытия кредитного счета в данном банке"
   ]
  },
  {
   "cell_type": "markdown",
   "id": "2b3ba79b",
   "metadata": {},
   "source": [
    "## 1. Считывание CSV-файла в объект DataFrame"
   ]
  },
  {
   "cell_type": "markdown",
   "id": "405e383e",
   "metadata": {},
   "source": [
    "Загружаем файл из интернета:"
   ]
  },
  {
   "cell_type": "code",
   "execution_count": 2,
   "id": "82b016f4",
   "metadata": {
    "scrolled": true
   },
   "outputs": [],
   "source": [
    "url = \"https://raw.githubusercontent.com/troshinvlaad/ML/main/credit_train.csv\" \n",
    "data_raw = pd.read_csv(url, encoding='cp1251', sep=';')"
   ]
  },
  {
   "cell_type": "markdown",
   "id": "b8eb1dcf",
   "metadata": {},
   "source": [
    "Выведем информацию о форме датафрейма с помощью свойств *shape*:"
   ]
  },
  {
   "cell_type": "code",
   "execution_count": 3,
   "id": "234e81be",
   "metadata": {},
   "outputs": [
    {
     "data": {
      "text/plain": [
       "(170746, 15)"
      ]
     },
     "execution_count": 3,
     "metadata": {},
     "output_type": "execute_result"
    }
   ],
   "source": [
    "data_raw.shape"
   ]
  },
  {
   "cell_type": "markdown",
   "id": "9f61bb58",
   "metadata": {},
   "source": [
    "Видим, что датафрейм состоит из 170746 строк (наблюдений) и 15 столбцов (переменных). Теперь взглянем на перве 5 наблюдений нашего набора с помощь метода *.head()*:"
   ]
  },
  {
   "cell_type": "code",
   "execution_count": 4,
   "id": "e27bfc99",
   "metadata": {},
   "outputs": [
    {
     "data": {
      "text/html": [
       "<div>\n",
       "<style scoped>\n",
       "    .dataframe tbody tr th:only-of-type {\n",
       "        vertical-align: middle;\n",
       "    }\n",
       "\n",
       "    .dataframe tbody tr th {\n",
       "        vertical-align: top;\n",
       "    }\n",
       "\n",
       "    .dataframe thead th {\n",
       "        text-align: right;\n",
       "    }\n",
       "</style>\n",
       "<table border=\"1\" class=\"dataframe\">\n",
       "  <thead>\n",
       "    <tr style=\"text-align: right;\">\n",
       "      <th></th>\n",
       "      <th>client_id</th>\n",
       "      <th>gender</th>\n",
       "      <th>age</th>\n",
       "      <th>marital_status</th>\n",
       "      <th>job_position</th>\n",
       "      <th>credit_sum</th>\n",
       "      <th>credit_month</th>\n",
       "      <th>tariff_id</th>\n",
       "      <th>score_shk</th>\n",
       "      <th>education</th>\n",
       "      <th>living_region</th>\n",
       "      <th>monthly_income</th>\n",
       "      <th>credit_count</th>\n",
       "      <th>overdue_credit_count</th>\n",
       "      <th>open_account_flg</th>\n",
       "    </tr>\n",
       "  </thead>\n",
       "  <tbody>\n",
       "    <tr>\n",
       "      <th>0</th>\n",
       "      <td>1</td>\n",
       "      <td>M</td>\n",
       "      <td>NaN</td>\n",
       "      <td>NaN</td>\n",
       "      <td>UMN</td>\n",
       "      <td>59998,00</td>\n",
       "      <td>10</td>\n",
       "      <td>1.6</td>\n",
       "      <td>NaN</td>\n",
       "      <td>GRD</td>\n",
       "      <td>КРАСНОДАРСКИЙ КРАЙ</td>\n",
       "      <td>30000.0</td>\n",
       "      <td>1.0</td>\n",
       "      <td>1.0</td>\n",
       "      <td>0</td>\n",
       "    </tr>\n",
       "    <tr>\n",
       "      <th>1</th>\n",
       "      <td>2</td>\n",
       "      <td>F</td>\n",
       "      <td>NaN</td>\n",
       "      <td>MAR</td>\n",
       "      <td>UMN</td>\n",
       "      <td>10889,00</td>\n",
       "      <td>6</td>\n",
       "      <td>1.1</td>\n",
       "      <td>NaN</td>\n",
       "      <td>NaN</td>\n",
       "      <td>МОСКВА</td>\n",
       "      <td>NaN</td>\n",
       "      <td>2.0</td>\n",
       "      <td>0.0</td>\n",
       "      <td>0</td>\n",
       "    </tr>\n",
       "    <tr>\n",
       "      <th>2</th>\n",
       "      <td>3</td>\n",
       "      <td>M</td>\n",
       "      <td>32.0</td>\n",
       "      <td>MAR</td>\n",
       "      <td>SPC</td>\n",
       "      <td>10728,00</td>\n",
       "      <td>12</td>\n",
       "      <td>1.1</td>\n",
       "      <td>NaN</td>\n",
       "      <td>NaN</td>\n",
       "      <td>ОБЛ САРАТОВСКАЯ</td>\n",
       "      <td>NaN</td>\n",
       "      <td>5.0</td>\n",
       "      <td>0.0</td>\n",
       "      <td>0</td>\n",
       "    </tr>\n",
       "    <tr>\n",
       "      <th>3</th>\n",
       "      <td>4</td>\n",
       "      <td>F</td>\n",
       "      <td>27.0</td>\n",
       "      <td>NaN</td>\n",
       "      <td>SPC</td>\n",
       "      <td>12009,09</td>\n",
       "      <td>12</td>\n",
       "      <td>1.1</td>\n",
       "      <td>NaN</td>\n",
       "      <td>NaN</td>\n",
       "      <td>ОБЛ ВОЛГОГРАДСКАЯ</td>\n",
       "      <td>NaN</td>\n",
       "      <td>2.0</td>\n",
       "      <td>0.0</td>\n",
       "      <td>0</td>\n",
       "    </tr>\n",
       "    <tr>\n",
       "      <th>4</th>\n",
       "      <td>5</td>\n",
       "      <td>M</td>\n",
       "      <td>45.0</td>\n",
       "      <td>NaN</td>\n",
       "      <td>SPC</td>\n",
       "      <td>NaN</td>\n",
       "      <td>10</td>\n",
       "      <td>1.1</td>\n",
       "      <td>0,421385</td>\n",
       "      <td>SCH</td>\n",
       "      <td>ЧЕЛЯБИНСКАЯ ОБЛАСТЬ</td>\n",
       "      <td>NaN</td>\n",
       "      <td>1.0</td>\n",
       "      <td>0.0</td>\n",
       "      <td>0</td>\n",
       "    </tr>\n",
       "  </tbody>\n",
       "</table>\n",
       "</div>"
      ],
      "text/plain": [
       "   client_id gender   age marital_status job_position credit_sum  \\\n",
       "0          1      M   NaN            NaN          UMN   59998,00   \n",
       "1          2      F   NaN            MAR          UMN   10889,00   \n",
       "2          3      M  32.0            MAR          SPC   10728,00   \n",
       "3          4      F  27.0            NaN          SPC   12009,09   \n",
       "4          5      M  45.0            NaN          SPC        NaN   \n",
       "\n",
       "   credit_month  tariff_id score_shk education        living_region  \\\n",
       "0            10        1.6       NaN       GRD   КРАСНОДАРСКИЙ КРАЙ   \n",
       "1             6        1.1       NaN       NaN               МОСКВА   \n",
       "2            12        1.1       NaN       NaN      ОБЛ САРАТОВСКАЯ   \n",
       "3            12        1.1       NaN       NaN    ОБЛ ВОЛГОГРАДСКАЯ   \n",
       "4            10        1.1  0,421385       SCH  ЧЕЛЯБИНСКАЯ ОБЛАСТЬ   \n",
       "\n",
       "   monthly_income  credit_count  overdue_credit_count  open_account_flg  \n",
       "0         30000.0           1.0                   1.0                 0  \n",
       "1             NaN           2.0                   0.0                 0  \n",
       "2             NaN           5.0                   0.0                 0  \n",
       "3             NaN           2.0                   0.0                 0  \n",
       "4             NaN           1.0                   0.0                 0  "
      ]
     },
     "execution_count": 4,
     "metadata": {},
     "output_type": "execute_result"
    }
   ],
   "source": [
    "data_raw.head()"
   ]
  },
  {
   "cell_type": "markdown",
   "id": "40ab7dac",
   "metadata": {},
   "source": [
    "Список исходных переменных включает в себя:"
   ]
  },
  {
   "cell_type": "code",
   "execution_count": 5,
   "id": "88c9a592",
   "metadata": {},
   "outputs": [
    {
     "data": {
      "text/plain": [
       "Index(['client_id', 'gender', 'age', 'marital_status', 'job_position',\n",
       "       'credit_sum', 'credit_month', 'tariff_id', 'score_shk', 'education',\n",
       "       'living_region', 'monthly_income', 'credit_count',\n",
       "       'overdue_credit_count', 'open_account_flg'],\n",
       "      dtype='object')"
      ]
     },
     "execution_count": 5,
     "metadata": {},
     "output_type": "execute_result"
    }
   ],
   "source": [
    "data_raw.columns"
   ]
  },
  {
   "cell_type": "markdown",
   "id": "0587e1dc",
   "metadata": {},
   "source": [
    "Для начала удалим идентификационную переменную `'client_id'`. Эта переменная имеет столько же уникальных значений, сколько у нас наблюдений, поэтому бесполезна для моделирования.\n",
    "Для удаления переменной можно применить метод *.drop()*. При этом нужно воспользоваться параметром *axics* и задать значение *1*, поскольку при удалении переменных мы перемещаемся по оси 1, то есть по оси столбцов. Кроме того, чтобы операция была осуществленна на месте, нужно воспользоваться параметром *inplace* и задать для него значение *True*."
   ]
  },
  {
   "cell_type": "code",
   "execution_count": 6,
   "id": "2dad1b9e",
   "metadata": {},
   "outputs": [],
   "source": [
    "data_raw.drop('client_id', axis=1, inplace=True)"
   ]
  },
  {
   "cell_type": "code",
   "execution_count": 7,
   "id": "ae74c0d2",
   "metadata": {},
   "outputs": [
    {
     "data": {
      "text/html": [
       "<div>\n",
       "<style scoped>\n",
       "    .dataframe tbody tr th:only-of-type {\n",
       "        vertical-align: middle;\n",
       "    }\n",
       "\n",
       "    .dataframe tbody tr th {\n",
       "        vertical-align: top;\n",
       "    }\n",
       "\n",
       "    .dataframe thead th {\n",
       "        text-align: right;\n",
       "    }\n",
       "</style>\n",
       "<table border=\"1\" class=\"dataframe\">\n",
       "  <thead>\n",
       "    <tr style=\"text-align: right;\">\n",
       "      <th></th>\n",
       "      <th>gender</th>\n",
       "      <th>age</th>\n",
       "      <th>marital_status</th>\n",
       "      <th>job_position</th>\n",
       "      <th>credit_sum</th>\n",
       "      <th>credit_month</th>\n",
       "      <th>tariff_id</th>\n",
       "      <th>score_shk</th>\n",
       "      <th>education</th>\n",
       "      <th>living_region</th>\n",
       "      <th>monthly_income</th>\n",
       "      <th>credit_count</th>\n",
       "      <th>overdue_credit_count</th>\n",
       "      <th>open_account_flg</th>\n",
       "    </tr>\n",
       "  </thead>\n",
       "  <tbody>\n",
       "    <tr>\n",
       "      <th>0</th>\n",
       "      <td>M</td>\n",
       "      <td>NaN</td>\n",
       "      <td>NaN</td>\n",
       "      <td>UMN</td>\n",
       "      <td>59998,00</td>\n",
       "      <td>10</td>\n",
       "      <td>1.6</td>\n",
       "      <td>NaN</td>\n",
       "      <td>GRD</td>\n",
       "      <td>КРАСНОДАРСКИЙ КРАЙ</td>\n",
       "      <td>30000.0</td>\n",
       "      <td>1.0</td>\n",
       "      <td>1.0</td>\n",
       "      <td>0</td>\n",
       "    </tr>\n",
       "    <tr>\n",
       "      <th>1</th>\n",
       "      <td>F</td>\n",
       "      <td>NaN</td>\n",
       "      <td>MAR</td>\n",
       "      <td>UMN</td>\n",
       "      <td>10889,00</td>\n",
       "      <td>6</td>\n",
       "      <td>1.1</td>\n",
       "      <td>NaN</td>\n",
       "      <td>NaN</td>\n",
       "      <td>МОСКВА</td>\n",
       "      <td>NaN</td>\n",
       "      <td>2.0</td>\n",
       "      <td>0.0</td>\n",
       "      <td>0</td>\n",
       "    </tr>\n",
       "    <tr>\n",
       "      <th>2</th>\n",
       "      <td>M</td>\n",
       "      <td>32.0</td>\n",
       "      <td>MAR</td>\n",
       "      <td>SPC</td>\n",
       "      <td>10728,00</td>\n",
       "      <td>12</td>\n",
       "      <td>1.1</td>\n",
       "      <td>NaN</td>\n",
       "      <td>NaN</td>\n",
       "      <td>ОБЛ САРАТОВСКАЯ</td>\n",
       "      <td>NaN</td>\n",
       "      <td>5.0</td>\n",
       "      <td>0.0</td>\n",
       "      <td>0</td>\n",
       "    </tr>\n",
       "    <tr>\n",
       "      <th>3</th>\n",
       "      <td>F</td>\n",
       "      <td>27.0</td>\n",
       "      <td>NaN</td>\n",
       "      <td>SPC</td>\n",
       "      <td>12009,09</td>\n",
       "      <td>12</td>\n",
       "      <td>1.1</td>\n",
       "      <td>NaN</td>\n",
       "      <td>NaN</td>\n",
       "      <td>ОБЛ ВОЛГОГРАДСКАЯ</td>\n",
       "      <td>NaN</td>\n",
       "      <td>2.0</td>\n",
       "      <td>0.0</td>\n",
       "      <td>0</td>\n",
       "    </tr>\n",
       "    <tr>\n",
       "      <th>4</th>\n",
       "      <td>M</td>\n",
       "      <td>45.0</td>\n",
       "      <td>NaN</td>\n",
       "      <td>SPC</td>\n",
       "      <td>NaN</td>\n",
       "      <td>10</td>\n",
       "      <td>1.1</td>\n",
       "      <td>0,421385</td>\n",
       "      <td>SCH</td>\n",
       "      <td>ЧЕЛЯБИНСКАЯ ОБЛАСТЬ</td>\n",
       "      <td>NaN</td>\n",
       "      <td>1.0</td>\n",
       "      <td>0.0</td>\n",
       "      <td>0</td>\n",
       "    </tr>\n",
       "  </tbody>\n",
       "</table>\n",
       "</div>"
      ],
      "text/plain": [
       "  gender   age marital_status job_position credit_sum  credit_month  \\\n",
       "0      M   NaN            NaN          UMN   59998,00            10   \n",
       "1      F   NaN            MAR          UMN   10889,00             6   \n",
       "2      M  32.0            MAR          SPC   10728,00            12   \n",
       "3      F  27.0            NaN          SPC   12009,09            12   \n",
       "4      M  45.0            NaN          SPC        NaN            10   \n",
       "\n",
       "   tariff_id score_shk education        living_region  monthly_income  \\\n",
       "0        1.6       NaN       GRD   КРАСНОДАРСКИЙ КРАЙ         30000.0   \n",
       "1        1.1       NaN       NaN               МОСКВА             NaN   \n",
       "2        1.1       NaN       NaN      ОБЛ САРАТОВСКАЯ             NaN   \n",
       "3        1.1       NaN       NaN    ОБЛ ВОЛГОГРАДСКАЯ             NaN   \n",
       "4        1.1  0,421385       SCH  ЧЕЛЯБИНСКАЯ ОБЛАСТЬ             NaN   \n",
       "\n",
       "   credit_count  overdue_credit_count  open_account_flg  \n",
       "0           1.0                   1.0                 0  \n",
       "1           2.0                   0.0                 0  \n",
       "2           5.0                   0.0                 0  \n",
       "3           2.0                   0.0                 0  \n",
       "4           1.0                   0.0                 0  "
      ]
     },
     "execution_count": 7,
     "metadata": {},
     "output_type": "execute_result"
    }
   ],
   "source": [
    "data_raw.head()"
   ]
  },
  {
   "cell_type": "markdown",
   "id": "05dcc471",
   "metadata": {},
   "source": [
    "Обратим внимание на странное значение *ОБЛ САРАТОВСКАЯ* переменной `'living_region'`. В следующем пункте подробно рассмотрим данный признак!"
   ]
  },
  {
   "cell_type": "markdown",
   "id": "0ddba3e6",
   "metadata": {},
   "source": [
    "## 2. Преобразование типов переменных"
   ]
  },
  {
   "cell_type": "markdown",
   "id": "d5dbdd2f",
   "metadata": {},
   "source": [
    "Для начала определим количество уникальных значений для всех переменных, чтобы выделить категориальные признаки, используем метод *nunique()*:"
   ]
  },
  {
   "cell_type": "code",
   "execution_count": 8,
   "id": "9c054886",
   "metadata": {},
   "outputs": [
    {
     "data": {
      "text/plain": [
       "gender                      2\n",
       "age                        54\n",
       "marital_status              5\n",
       "job_position               18\n",
       "credit_sum              42769\n",
       "credit_month               31\n",
       "tariff_id                  32\n",
       "score_shk               16279\n",
       "education                   5\n",
       "living_region             301\n",
       "monthly_income           1591\n",
       "credit_count               21\n",
       "overdue_credit_count        4\n",
       "open_account_flg            2\n",
       "dtype: int64"
      ]
     },
     "execution_count": 8,
     "metadata": {},
     "output_type": "execute_result"
    }
   ],
   "source": [
    "data_raw.nunique()"
   ]
  },
  {
   "cell_type": "markdown",
   "id": "0405a8c3",
   "metadata": {},
   "source": [
    "Отдельно выведем уникальные значения переменной `'living_region'`. Используем метод *.unique()*:"
   ]
  },
  {
   "cell_type": "code",
   "execution_count": 9,
   "id": "6f212401",
   "metadata": {},
   "outputs": [
    {
     "data": {
      "text/plain": [
       "array(['КРАСНОДАРСКИЙ КРАЙ', 'МОСКВА', 'ОБЛ САРАТОВСКАЯ',\n",
       "       'ОБЛ ВОЛГОГРАДСКАЯ', 'ЧЕЛЯБИНСКАЯ ОБЛАСТЬ', 'СТАВРОПОЛЬСКИЙ КРАЙ',\n",
       "       'ОБЛ НИЖЕГОРОДСКАЯ', 'МОСКОВСКАЯ ОБЛ',\n",
       "       'ХАНТЫ-МАНСИЙСКИЙ АВТОНОМНЫЙ ОКРУГ - ЮГРА', 'КРАЙ СТАВРОПОЛЬСКИЙ',\n",
       "       'САНКТ-ПЕТЕРБУРГ', 'РЕСП. БАШКОРТОСТАН', 'ОБЛ АРХАНГЕЛЬСКАЯ',\n",
       "       'ХАНТЫ-МАНСИЙСКИЙ АО', 'РЕСП БАШКОРТОСТАН', 'ПЕРМСКИЙ КРАЙ',\n",
       "       'РЕСП КАРАЧАЕВО-ЧЕРКЕССКАЯ', 'САРАТОВСКАЯ ОБЛ', 'ОБЛ КАЛУЖСКАЯ',\n",
       "       'ОБЛ ВОЛОГОДСКАЯ', 'РОСТОВСКАЯ ОБЛ', 'УДМУРТСКАЯ РЕСП',\n",
       "       'ОБЛ ИРКУТСКАЯ', 'ПРИВОЛЖСКИЙ ФЕДЕРАЛЬНЫЙ ОКРУГ', 'ОБЛ МОСКОВСКАЯ',\n",
       "       'ОБЛ ТЮМЕНСКАЯ', 'ОБЛ БЕЛГОРОДСКАЯ', 'РОСТОВСКАЯ ОБЛАСТЬ',\n",
       "       'ОБЛ КОСТРОМСКАЯ', 'РЕСП ХАКАСИЯ', 'РЕСПУБЛИКА ТАТАРСТАН',\n",
       "       'ИРКУТСКАЯ ОБЛАСТЬ', 'ОБЛ СВЕРДЛОВСКАЯ', 'ОБЛ ПСКОВСКАЯ',\n",
       "       'КРАЙ ЗАБАЙКАЛЬСКИЙ', 'СВЕРДЛОВСКАЯ ОБЛ', 'ОБЛ ОРЕНБУРГСКАЯ',\n",
       "       'ОБЛ ВОРОНЕЖСКАЯ', 'ОБЛ АСТРАХАНСКАЯ', 'ОБЛ НОВОСИБИРСКАЯ',\n",
       "       'ОБЛ ЧЕЛЯБИНСКАЯ', 'ОРЕНБУРГСКАЯ ОБЛ', 'СВЕРДЛОВСКАЯ ОБЛАСТЬ',\n",
       "       'ОБЛ КУРГАНСКАЯ', 'ЧЕЛЯБИНСКАЯ ОБЛ', 'НИЖЕГОРОДСКАЯ ОБЛАСТЬ',\n",
       "       'ТАТАРСТАН РЕСП', 'УЛЬЯНОВСКАЯ ОБЛ', 'МОСКВА Г', 'ОБЛ МУРМАНСКАЯ',\n",
       "       'КРАСНОЯРСКИЙ КРАЙ', 'РЕСП БУРЯТИЯ', 'РЕСП. САХА (ЯКУТИЯ)',\n",
       "       'ОБЛ АМУРСКАЯ', 'ХАБАРОВСКИЙ КРАЙ', 'САНКТ-ПЕТЕРБУРГ Г',\n",
       "       'ЯМАЛО-НЕНЕЦКИЙ АО', 'ОБЛ САМАРСКАЯ', 'ТЮМЕНСКАЯ ОБЛАСТЬ',\n",
       "       'ТВЕРСКАЯ ОБЛАСТЬ', 'ЯРОСЛАВСКАЯ ОБЛАСТЬ', 'ОБЛ ВЛАДИМИРСКАЯ',\n",
       "       'ОБЛ ЛЕНИНГРАДСКАЯ', 'ОРЛОВСКАЯ ОБЛ', 'ОБЛ КЕМЕРОВСКАЯ',\n",
       "       'ОМСКАЯ ОБЛ', 'РЕСП ЧЕЧЕНСКАЯ', 'ОБЛ КУРСКАЯ', 'ТУЛЬСКАЯ ОБЛ',\n",
       "       'РЕСП АДЫГЕЯ', 'ТУЛЬСКАЯ ОБЛАСТЬ', 'РЕСПУБЛИКА КОМИ',\n",
       "       'ПРИМОРСКИЙ КРАЙ', 'САМАРСКАЯ ОБЛ', 'СМОЛЕНСКАЯ ОБЛАСТЬ',\n",
       "       'ОБЛ КИРОВСКАЯ', 'САМАРСКАЯ ОБЛАСТЬ', 'РЕСП ДАГЕСТАН',\n",
       "       'ПЕНЗЕНСКАЯ ОБЛ', 'ТВЕРСКАЯ ОБЛ', 'УДМУРТСКАЯ РЕСПУБЛИКА',\n",
       "       'РЕСП КАРЕЛИЯ', 'ОБЛ ТОМСКАЯ', 'РЕСПУБЛИКА БУРЯТИЯ',\n",
       "       'ОБЛ МАГАДАНСКАЯ', 'РЕСП КОМИ', 'ЯРОСЛАВСКАЯ ОБЛ',\n",
       "       'ОРЛОВСКАЯ ОБЛАСТЬ', 'ТОМСКАЯ ОБЛАСТЬ', 'РЕСП МАРИЙ ЭЛ',\n",
       "       'ОБЛ ИВАНОВСКАЯ', 'КРАЙ КРАСНОДАРСКИЙ', 'РЕСПУБЛИКА АДЫГЕЯ',\n",
       "       'САРАТОВСКАЯ ОБЛАСТЬ', 'ЕВРЕЙСКАЯ АОБЛ', 'ХАКАСИЯ РЕСП',\n",
       "       'ПСКОВСКАЯ ОБЛ', 'КРАЙ АЛТАЙСКИЙ', 'РЕСП КАБАРДИНО-БАЛКАРСКАЯ',\n",
       "       'ТЮМЕНСКАЯ ОБЛ', 'КРАЙ ПЕРМСКИЙ',\n",
       "       'АО ХАНТЫ-МАНСИЙСКИЙ АВТОНОМНЫЙ ОКРУГ - Ю', 'БАШКОРТОСТАН',\n",
       "       'ОБЛ ТАМБОВСКАЯ', 'ТЫВА РЕСП', 'ОБЛ НОВГОРОДСКАЯ', 'ОБЛ ЛИПЕЦКАЯ',\n",
       "       'ОБЛ ТУЛЬСКАЯ', 'ПСКОВСКАЯ ОБЛАСТЬ', 'ВОЛОГОДСКАЯ ОБЛАСТЬ',\n",
       "       'САХА /ЯКУТИЯ/ РЕСП', 'ОМСКАЯ ОБЛАСТЬ', 'АРХАНГЕЛЬСКАЯ ОБЛАСТЬ',\n",
       "       'ТАМБОВСКАЯ ОБЛ', 'РЕСП СЕВЕРНАЯ ОСЕТИЯ - АЛАНИЯ',\n",
       "       'ЛЕНИНГРАДСКАЯ ОБЛ', 'ОБЛ ТВЕРСКАЯ', 'ПЕНЗЕНСКАЯ ОБЛАСТЬ',\n",
       "       'УЛЬЯНОВСКАЯ ОБЛАСТЬ', 'СМОЛЕНСКАЯ ОБЛ', 'Г. САНКТ-ПЕТЕРБУРГ',\n",
       "       'ТОМСКАЯ ОБЛ', 'РЯЗАНСКАЯ ОБЛ', 'САХАЛИНСКАЯ ОБЛАСТЬ',\n",
       "       'ЧУВАШСКАЯ РЕСПУБЛИКА - ЧУВАШИЯ', nan, 'БАШКОРТОСТАН РЕСП',\n",
       "       'КРАЙ КАМЧАТСКИЙ', 'РЕСП МОРДОВИЯ', 'РЕСПУБЛИКА КАЛМЫКИЯ',\n",
       "       'РЕСП АЛТАЙ', 'ОБЛ БРЯНСКАЯ', 'РЕСП ТАТАРСТАН',\n",
       "       'МОСКОВСКАЯ ОБЛАСТЬ', 'КАБАРДИНО-БАЛКАРСКАЯ РЕСП',\n",
       "       'ЧУВАШСКАЯ РЕСПУБЛИКА', 'АО ЯМАЛО-НЕНЕЦКИЙ', 'ОБЛ ПЕНЗЕНСКАЯ',\n",
       "       'КРАЙ ПРИМОРСКИЙ', 'САХАЛИНСКАЯ ОБЛ', 'КРАЙ КРАСНОЯРСКИЙ',\n",
       "       'ОРЕНБУРГСКАЯ ОБЛАСТЬ', 'РЯЗАНСКАЯ ОБЛАСТЬ', 'РЕСПУБЛИКА КАРЕЛИЯ',\n",
       "       'ОБЛ СМОЛЕНСКАЯ', 'ОБЛ КАЛИНИНГРАДСКАЯ', 'РЕСПУБЛИКА ТЫВА',\n",
       "       'МУРМАНСКАЯ ОБЛ', 'ТАМБОВСКАЯ ОБЛАСТЬ', 'ОБЛ РОСТОВСКАЯ',\n",
       "       'РЕСПУБЛИКА МАРИЙ ЭЛ', 'АСТРАХАНСКАЯ ОБЛАСТЬ', 'КУРСКАЯ ОБЛ',\n",
       "       'СЕВЕРНАЯ ОСЕТИЯ - АЛАНИЯ РЕСП', 'НИЖЕГОРОДСКАЯ ОБЛ',\n",
       "       'РЕСПУБЛИКА МОРДОВИЯ', 'НОВОСИБИРСКАЯ ОБЛ',\n",
       "       'ЧУВАШСКАЯ - ЧУВАШИЯ РЕСП', 'РЕСП САХА /ЯКУТИЯ/', 'РЕСП КАЛМЫКИЯ',\n",
       "       'НЕНЕЦКИЙ АО', 'ЛЕНИНГРАДСКАЯ ОБЛАСТЬ', 'ЗАБАЙКАЛЬСКИЙ КРАЙ',\n",
       "       'ВОЛОГОДСКАЯ', 'АРХАНГЕЛЬСКАЯ', 'РЕСП УДМУРТСКАЯ', 'Г МОСКВА',\n",
       "       'БУРЯТИЯ РЕСП', 'РЕСП ТЫВА', 'ПЕРМСКАЯ ОБЛ', 'ОБЛ РЯЗАНСКАЯ',\n",
       "       'КАЛМЫКИЯ РЕСП', 'Г. МОСКВА', 'КЕМЕРОВСКАЯ ОБЛ',\n",
       "       'КАБАРДИНО-БАЛКАРСКАЯ', 'КРАЙ ХАБАРОВСКИЙ', 'ОБЛ ЯРОСЛАВСКАЯ',\n",
       "       'МУРМАНСКАЯ ОБЛАСТЬ', 'ВОЛОГОДСКАЯ ОБЛ', 'ОБЛ УЛЬЯНОВСКАЯ',\n",
       "       'КЕМЕРОВСКАЯ ОБЛАСТЬ', 'ИРКУТСКАЯ ОБЛ', 'ВЛАДИМИРСКАЯ ОБЛ',\n",
       "       'АСТРАХАНСКАЯ ОБЛ', 'КУРСКАЯ ОБЛАСТЬ', 'КУРГАНСКАЯ ОБЛ',\n",
       "       'КУРГАНСКАЯ ОБЛАСТЬ', 'ВОРОНЕЖСКАЯ ОБЛ', 'ОБЛ САХАЛИНСКАЯ',\n",
       "       'БЕЛГОРОДСКАЯ ОБЛ', 'РОСТОВСКАЯ', 'ВОЛГОГРАДСКАЯ ОБЛАСТЬ',\n",
       "       'АСТРАХАНСКАЯ', 'ЧУКОТСКИЙ АО', 'ГОРЬКОВСКАЯ ОБЛ',\n",
       "       'НОВГОРОДСКАЯ ОБЛ', 'КАЛИНИНГРАДСКАЯ ОБЛ', 'ОМСКАЯ', 'КОМИ РЕСП',\n",
       "       'СЕВ. ОСЕТИЯ - АЛАНИЯ', 'САМАРСКАЯ', 'ВОЛГОГРАДСКАЯ ОБЛ',\n",
       "       'ОБЛ ОРЛОВСКАЯ', 'БЕЛГОРОДСКАЯ ОБЛАСТЬ', 'БУРЯТИЯ',\n",
       "       'ВЛАДИМИРСКАЯ ОБЛАСТЬ', 'ЧУВАШИЯ ЧУВАШСКАЯ РЕСПУБЛИКА -',\n",
       "       'РЕСП ИНГУШЕТИЯ', 'КРАСНОДАРСКИЙ', 'АМУРСКАЯ ОБЛАСТЬ',\n",
       "       'ЛЕНИНГРАДСКАЯ', 'БРЯНСКАЯ ОБЛ', 'ЧЕЧЕНСКАЯ РЕСП',\n",
       "       'ЧЕЧЕНСКАЯ РЕСПУБЛИКА', 'РЕСПУБЛИКАТАТАРСТАН', 'АДЫГЕЯ РЕСП',\n",
       "       'ОБЛ ОМСКАЯ', 'ТОМСКАЯ', 'РОССИЯ', 'МАРИЙ ЭЛ РЕСП',\n",
       "       'КИРОВСКАЯ ОБЛ', 'ВОРОНЕЖСКАЯ ОБЛАСТЬ', 'МОРДОВИЯ РЕСП',\n",
       "       'ЛИПЕЦКАЯ ОБЛ', 'ХАКАСИЯ', 'КОСТРОМСКАЯ ОБЛ', 'КОМИ',\n",
       "       'КАЛУЖСКАЯ ОБЛ', 'ЧИТИНСКАЯ ОБЛ', 'БРЯНСКАЯ ОБЛАСТЬ',\n",
       "       'АМУРСКАЯ ОБЛ', 'ЧУВАШСКАЯ РЕСП', 'МОСКОВСКАЯ',\n",
       "       'КАРАЧАЕВО-ЧЕРКЕССКАЯ РЕСП', '98', 'МЫТИЩИНСКИЙ Р-Н',\n",
       "       'АРХАНГЕЛЬСКАЯ ОБЛ', 'СТАВРОПОЛЬСКИЙ', 'ИВАНОВСКАЯ ОБЛАСТЬ',\n",
       "       'КАЛУЖСКАЯ ОБЛАСТЬ', 'КАМЧАТСКИЙ КРАЙ', 'ОБЛ. ВЛАДИМИРСКАЯ',\n",
       "       'РЕСПУБЛИКА ДАГЕСТАН', 'ИВАНОВСКАЯ ОБЛ', 'КРАЙ.ПЕРМСКИЙ',\n",
       "       'КАЛУЖСКАЯ', 'КРАЙ. СТАВРОПОЛЬСКИЙ', 'РЕСПУБЛИКА ХАКАСИЯ',\n",
       "       'РЕСПУБЛИКА САХА', 'КОСТРОМСКАЯ ОБЛАСТЬ', 'АО НЕНЕЦКИЙ',\n",
       "       'МОСКВОСКАЯ ОБЛ', 'ДАГЕСТАН РЕСП', 'КРАЙ. КРАСНОЯРСКИЙ',\n",
       "       'ОБЛ.РОСТОВСКАЯ', 'ЛИПЕЦКАЯ ОБЛАСТЬ', 'ЕВРЕЙСКАЯ АВТОНОМНАЯ',\n",
       "       'ЭВЕНКИЙСКИЙ АО', 'КАМЧАТСКАЯ ОБЛАСТЬ', 'РЕСПУБЛИКА АЛТАЙ',\n",
       "       'АЛТАЙСКИЙ КРАЙ', 'НОВОСИБИРСКАЯ ОБЛАСТЬ', 'НОВГОРОДСКАЯ ОБЛАСТЬ',\n",
       "       'КАРЕЛИЯ РЕСП', 'ГУСЬ-ХРУСТАЛЬНЫЙ Р-Н', 'КАЛМЫКИЯ',\n",
       "       'ИНГУШЕТИЯ РЕСП', 'АЛТАЙСКИЙ', 'КИРОВСКАЯ ОБЛАСТЬ',\n",
       "       'ОБЛ. МУРМАНСКАЯ', 'КАРЕЛИЯ', 'РЕСП. КОМИ', 'ОБЛ. ЛИПЕЦКАЯ',\n",
       "       'БРЯНСКИЙ', 'ОБЛ. СВЕРДЛОВСКАЯ', 'ПЕРМСКИЙ', 'ОРЁЛ',\n",
       "       'ОБЛ.НИЖЕГОРОДСКАЯ', 'АОБЛ ЕВРЕЙСКАЯ', 'СВЕРДЛОВСКАЯ',\n",
       "       'ОБЛ.МОСКОВСКАЯ', 'ОБЛ.САРАТОВСКАЯ', 'КЕМЕРОВСКАЯ',\n",
       "       'ДАЛЬНИЙ ВОСТОК', 'ОБЛ. НОВОСИБИРСКАЯ', 'ОБЛ. КУРГАНСКАЯ', '74',\n",
       "       'ОБЛ. БЕЛГОРОДСКАЯ', 'МАГАДАНСКАЯ ОБЛАСТЬ', 'ВОЛОГОДСКАЯ ОБЛ.',\n",
       "       'ТЮМЕНСКАЯ', 'КАРАЧАЕВО-ЧЕРКЕССКАЯ', 'ОБЛ. ЧЕЛЯБИНСКАЯ',\n",
       "       'САХА /ЯКУТИЯ/', 'Г.МОСКВА', 'Г.ОДИНЦОВО МОСКОВСКАЯ ОБЛ',\n",
       "       'НОВОСИБИРСКАЯ', 'РЕСП.БАШКОРТОСТАН', 'КРАЙ. ПЕРМСКИЙ',\n",
       "       'РЕСП ЧУВАШСКАЯ - ЧУВАШИЯ', 'ОБЛ. КИРОВСКАЯ',\n",
       "       'КАЛИНИНГРАДСКАЯ ОБЛ.'], dtype=object)"
      ]
     },
     "execution_count": 9,
     "metadata": {},
     "output_type": "execute_result"
    }
   ],
   "source": [
    "data_raw['living_region'].unique()"
   ]
  },
  {
   "cell_type": "markdown",
   "id": "57df21a9",
   "metadata": {},
   "source": [
    "Видно, что один и тот же регион может быть по-разному записан (например, Архангельская область записана как *АРХАНГЕЛЬСКАЯ*, *АРХАНГЕЛЬСКАЯ ОБЛ*, *АРХАНГЕЛЬСКАЯ ОБЛАСТЬ*, *ОБЛ АРХАНГЕЛЬСКАЯ*), некоторые регионы представленны числами типа *74* и *98*.\n",
    "Удалим столбец с регионом проживания `'living_region'`, так как он нуждается в серьезной предобработке, которой мы займемся в последующей работе (сохраним столбец в отдельный объект)."
   ]
  },
  {
   "cell_type": "code",
   "execution_count": 10,
   "id": "4a2e9adb",
   "metadata": {},
   "outputs": [],
   "source": [
    "regions = data_raw['living_region']"
   ]
  },
  {
   "cell_type": "code",
   "execution_count": 11,
   "id": "970d725e",
   "metadata": {},
   "outputs": [],
   "source": [
    "data_raw.drop('living_region', axis=1, inplace=True)"
   ]
  },
  {
   "cell_type": "code",
   "execution_count": 12,
   "id": "26df1947",
   "metadata": {},
   "outputs": [
    {
     "data": {
      "text/html": [
       "<div>\n",
       "<style scoped>\n",
       "    .dataframe tbody tr th:only-of-type {\n",
       "        vertical-align: middle;\n",
       "    }\n",
       "\n",
       "    .dataframe tbody tr th {\n",
       "        vertical-align: top;\n",
       "    }\n",
       "\n",
       "    .dataframe thead th {\n",
       "        text-align: right;\n",
       "    }\n",
       "</style>\n",
       "<table border=\"1\" class=\"dataframe\">\n",
       "  <thead>\n",
       "    <tr style=\"text-align: right;\">\n",
       "      <th></th>\n",
       "      <th>gender</th>\n",
       "      <th>age</th>\n",
       "      <th>marital_status</th>\n",
       "      <th>job_position</th>\n",
       "      <th>credit_sum</th>\n",
       "      <th>credit_month</th>\n",
       "      <th>tariff_id</th>\n",
       "      <th>score_shk</th>\n",
       "      <th>education</th>\n",
       "      <th>monthly_income</th>\n",
       "      <th>credit_count</th>\n",
       "      <th>overdue_credit_count</th>\n",
       "      <th>open_account_flg</th>\n",
       "    </tr>\n",
       "  </thead>\n",
       "  <tbody>\n",
       "    <tr>\n",
       "      <th>0</th>\n",
       "      <td>M</td>\n",
       "      <td>NaN</td>\n",
       "      <td>NaN</td>\n",
       "      <td>UMN</td>\n",
       "      <td>59998,00</td>\n",
       "      <td>10</td>\n",
       "      <td>1.6</td>\n",
       "      <td>NaN</td>\n",
       "      <td>GRD</td>\n",
       "      <td>30000.0</td>\n",
       "      <td>1.0</td>\n",
       "      <td>1.0</td>\n",
       "      <td>0</td>\n",
       "    </tr>\n",
       "    <tr>\n",
       "      <th>1</th>\n",
       "      <td>F</td>\n",
       "      <td>NaN</td>\n",
       "      <td>MAR</td>\n",
       "      <td>UMN</td>\n",
       "      <td>10889,00</td>\n",
       "      <td>6</td>\n",
       "      <td>1.1</td>\n",
       "      <td>NaN</td>\n",
       "      <td>NaN</td>\n",
       "      <td>NaN</td>\n",
       "      <td>2.0</td>\n",
       "      <td>0.0</td>\n",
       "      <td>0</td>\n",
       "    </tr>\n",
       "    <tr>\n",
       "      <th>2</th>\n",
       "      <td>M</td>\n",
       "      <td>32.0</td>\n",
       "      <td>MAR</td>\n",
       "      <td>SPC</td>\n",
       "      <td>10728,00</td>\n",
       "      <td>12</td>\n",
       "      <td>1.1</td>\n",
       "      <td>NaN</td>\n",
       "      <td>NaN</td>\n",
       "      <td>NaN</td>\n",
       "      <td>5.0</td>\n",
       "      <td>0.0</td>\n",
       "      <td>0</td>\n",
       "    </tr>\n",
       "    <tr>\n",
       "      <th>3</th>\n",
       "      <td>F</td>\n",
       "      <td>27.0</td>\n",
       "      <td>NaN</td>\n",
       "      <td>SPC</td>\n",
       "      <td>12009,09</td>\n",
       "      <td>12</td>\n",
       "      <td>1.1</td>\n",
       "      <td>NaN</td>\n",
       "      <td>NaN</td>\n",
       "      <td>NaN</td>\n",
       "      <td>2.0</td>\n",
       "      <td>0.0</td>\n",
       "      <td>0</td>\n",
       "    </tr>\n",
       "    <tr>\n",
       "      <th>4</th>\n",
       "      <td>M</td>\n",
       "      <td>45.0</td>\n",
       "      <td>NaN</td>\n",
       "      <td>SPC</td>\n",
       "      <td>NaN</td>\n",
       "      <td>10</td>\n",
       "      <td>1.1</td>\n",
       "      <td>0,421385</td>\n",
       "      <td>SCH</td>\n",
       "      <td>NaN</td>\n",
       "      <td>1.0</td>\n",
       "      <td>0.0</td>\n",
       "      <td>0</td>\n",
       "    </tr>\n",
       "  </tbody>\n",
       "</table>\n",
       "</div>"
      ],
      "text/plain": [
       "  gender   age marital_status job_position credit_sum  credit_month  \\\n",
       "0      M   NaN            NaN          UMN   59998,00            10   \n",
       "1      F   NaN            MAR          UMN   10889,00             6   \n",
       "2      M  32.0            MAR          SPC   10728,00            12   \n",
       "3      F  27.0            NaN          SPC   12009,09            12   \n",
       "4      M  45.0            NaN          SPC        NaN            10   \n",
       "\n",
       "   tariff_id score_shk education  monthly_income  credit_count  \\\n",
       "0        1.6       NaN       GRD         30000.0           1.0   \n",
       "1        1.1       NaN       NaN             NaN           2.0   \n",
       "2        1.1       NaN       NaN             NaN           5.0   \n",
       "3        1.1       NaN       NaN             NaN           2.0   \n",
       "4        1.1  0,421385       SCH             NaN           1.0   \n",
       "\n",
       "   overdue_credit_count  open_account_flg  \n",
       "0                   1.0                 0  \n",
       "1                   0.0                 0  \n",
       "2                   0.0                 0  \n",
       "3                   0.0                 0  \n",
       "4                   0.0                 0  "
      ]
     },
     "execution_count": 12,
     "metadata": {},
     "output_type": "execute_result"
    }
   ],
   "source": [
    "data_raw.head()"
   ]
  },
  {
   "cell_type": "markdown",
   "id": "835c8296",
   "metadata": {},
   "source": [
    "Типы признаков:\n",
    "\n",
    "- Качественные (*категориальные*, *факторные*):\n",
    "  - Неупорядоченные (*номинальные*)\n",
    "  - Упорядоченные (*порядковые*)\n",
    "- Количественные (*числовые*):\n",
    "  - *Непрерывные*\n",
    "  - *Дискретные*\n",
    "\n",
    "*Бинарные* признаки (которые принимают только два значения) можно считать и номинальными, и порядковыми, и дискретными   "
   ]
  },
  {
   "cell_type": "markdown",
   "id": "edc49795",
   "metadata": {},
   "source": [
    "Проверим типы данных и заполненность столбцов с помощью метода *.info()*."
   ]
  },
  {
   "cell_type": "code",
   "execution_count": 13,
   "id": "b38936fe",
   "metadata": {},
   "outputs": [
    {
     "name": "stdout",
     "output_type": "stream",
     "text": [
      "<class 'pandas.core.frame.DataFrame'>\n",
      "RangeIndex: 170746 entries, 0 to 170745\n",
      "Data columns (total 13 columns):\n",
      " #   Column                Non-Null Count   Dtype  \n",
      "---  ------                --------------   -----  \n",
      " 0   gender                170746 non-null  object \n",
      " 1   age                   170743 non-null  float64\n",
      " 2   marital_status        170743 non-null  object \n",
      " 3   job_position          170746 non-null  object \n",
      " 4   credit_sum            170744 non-null  object \n",
      " 5   credit_month          170746 non-null  int64  \n",
      " 6   tariff_id             170746 non-null  float64\n",
      " 7   score_shk             170739 non-null  object \n",
      " 8   education             170741 non-null  object \n",
      " 9   monthly_income        170741 non-null  float64\n",
      " 10  credit_count          161516 non-null  float64\n",
      " 11  overdue_credit_count  161516 non-null  float64\n",
      " 12  open_account_flg      170746 non-null  int64  \n",
      "dtypes: float64(5), int64(2), object(6)\n",
      "memory usage: 16.9+ MB\n"
     ]
    }
   ],
   "source": [
    "data_raw.info()"
   ]
  },
  {
   "cell_type": "markdown",
   "id": "691e2c4f",
   "metadata": {},
   "source": [
    "Количественнные переменные `'credit_sum'` и `'score_shk'` неверно записаны, им присвоен тип `'Object'`. Это обусловленно тем, что вместо точки в качестве десятичнго разделителя использовалась запятая. "
   ]
  },
  {
   "cell_type": "markdown",
   "id": "0e90092b",
   "metadata": {},
   "source": [
    "Заменим запятые на точки в переменных `'credit_sum'` и `'score_shk'` и присвоим переменным тип `'float'`. Воспользуемся циклом *for* и связыванием методов (method chaining):"
   ]
  },
  {
   "cell_type": "code",
   "execution_count": 14,
   "id": "48c96046",
   "metadata": {},
   "outputs": [],
   "source": [
    "for i in ['credit_sum', 'score_shk']:\n",
    "    data_raw[i] = data_raw[i].str.replace(',', '.').astype('float')"
   ]
  },
  {
   "cell_type": "markdown",
   "id": "bbbdb40b",
   "metadata": {},
   "source": [
    "Заметим, что столбцы `'gender'`, `'marital_status'`, `'job_position'`, `'education'`, `'open_account_flg'`, и `'tariff_id'`, содержат категориальные значения. Пока они имеют тип `'Object'`, `'int64'` или `'float64'`. Заменим тип на специальный, предназначенный для хранения категориальных значений, а для компактности программного кода воспользуемся циклом *for*:"
   ]
  },
  {
   "cell_type": "code",
   "execution_count": 15,
   "id": "9fe5b0a6",
   "metadata": {},
   "outputs": [],
   "source": [
    "for i in ['gender', 'marital_status', 'job_position', 'education', 'open_account_flg', 'tariff_id']:\n",
    "    data_raw[i] = data_raw[i].astype('category')"
   ]
  },
  {
   "cell_type": "markdown",
   "id": "ae47a10b",
   "metadata": {},
   "source": [
    "Снова взглянем на типы переменных:"
   ]
  },
  {
   "cell_type": "code",
   "execution_count": 16,
   "id": "a53d902f",
   "metadata": {},
   "outputs": [
    {
     "name": "stdout",
     "output_type": "stream",
     "text": [
      "<class 'pandas.core.frame.DataFrame'>\n",
      "RangeIndex: 170746 entries, 0 to 170745\n",
      "Data columns (total 13 columns):\n",
      " #   Column                Non-Null Count   Dtype   \n",
      "---  ------                --------------   -----   \n",
      " 0   gender                170746 non-null  category\n",
      " 1   age                   170743 non-null  float64 \n",
      " 2   marital_status        170743 non-null  category\n",
      " 3   job_position          170746 non-null  category\n",
      " 4   credit_sum            170744 non-null  float64 \n",
      " 5   credit_month          170746 non-null  int64   \n",
      " 6   tariff_id             170746 non-null  category\n",
      " 7   score_shk             170739 non-null  float64 \n",
      " 8   education             170741 non-null  category\n",
      " 9   monthly_income        170741 non-null  float64 \n",
      " 10  credit_count          161516 non-null  float64 \n",
      " 11  overdue_credit_count  161516 non-null  float64 \n",
      " 12  open_account_flg      170746 non-null  category\n",
      "dtypes: category(6), float64(6), int64(1)\n",
      "memory usage: 10.1 MB\n"
     ]
    }
   ],
   "source": [
    "data_raw.info()"
   ]
  },
  {
   "cell_type": "markdown",
   "id": "aeae2be0",
   "metadata": {},
   "source": [
    "Теперь мы видим, что категориальные переменные верно записаны, как категориальные переменные: им присвоен тип `'category'`. Количественные переменные тоже верно записаны, им присвоен тип `'float'`. "
   ]
  },
  {
   "cell_type": "markdown",
   "id": "48bf2341",
   "metadata": {},
   "source": [
    "Посмотрим наблюдения и убедимся, что теперь в переменных `'credit_sum'` и `'score_shk'` в качестве десятичного разделителя используется точка, а не запятая:"
   ]
  },
  {
   "cell_type": "code",
   "execution_count": 17,
   "id": "190f05f7",
   "metadata": {},
   "outputs": [
    {
     "data": {
      "text/html": [
       "<div>\n",
       "<style scoped>\n",
       "    .dataframe tbody tr th:only-of-type {\n",
       "        vertical-align: middle;\n",
       "    }\n",
       "\n",
       "    .dataframe tbody tr th {\n",
       "        vertical-align: top;\n",
       "    }\n",
       "\n",
       "    .dataframe thead th {\n",
       "        text-align: right;\n",
       "    }\n",
       "</style>\n",
       "<table border=\"1\" class=\"dataframe\">\n",
       "  <thead>\n",
       "    <tr style=\"text-align: right;\">\n",
       "      <th></th>\n",
       "      <th>gender</th>\n",
       "      <th>age</th>\n",
       "      <th>marital_status</th>\n",
       "      <th>job_position</th>\n",
       "      <th>credit_sum</th>\n",
       "      <th>credit_month</th>\n",
       "      <th>tariff_id</th>\n",
       "      <th>score_shk</th>\n",
       "      <th>education</th>\n",
       "      <th>monthly_income</th>\n",
       "      <th>credit_count</th>\n",
       "      <th>overdue_credit_count</th>\n",
       "      <th>open_account_flg</th>\n",
       "    </tr>\n",
       "  </thead>\n",
       "  <tbody>\n",
       "    <tr>\n",
       "      <th>0</th>\n",
       "      <td>M</td>\n",
       "      <td>NaN</td>\n",
       "      <td>NaN</td>\n",
       "      <td>UMN</td>\n",
       "      <td>59998.00</td>\n",
       "      <td>10</td>\n",
       "      <td>1.6</td>\n",
       "      <td>NaN</td>\n",
       "      <td>GRD</td>\n",
       "      <td>30000.0</td>\n",
       "      <td>1.0</td>\n",
       "      <td>1.0</td>\n",
       "      <td>0</td>\n",
       "    </tr>\n",
       "    <tr>\n",
       "      <th>1</th>\n",
       "      <td>F</td>\n",
       "      <td>NaN</td>\n",
       "      <td>MAR</td>\n",
       "      <td>UMN</td>\n",
       "      <td>10889.00</td>\n",
       "      <td>6</td>\n",
       "      <td>1.1</td>\n",
       "      <td>NaN</td>\n",
       "      <td>NaN</td>\n",
       "      <td>NaN</td>\n",
       "      <td>2.0</td>\n",
       "      <td>0.0</td>\n",
       "      <td>0</td>\n",
       "    </tr>\n",
       "    <tr>\n",
       "      <th>2</th>\n",
       "      <td>M</td>\n",
       "      <td>32.0</td>\n",
       "      <td>MAR</td>\n",
       "      <td>SPC</td>\n",
       "      <td>10728.00</td>\n",
       "      <td>12</td>\n",
       "      <td>1.1</td>\n",
       "      <td>NaN</td>\n",
       "      <td>NaN</td>\n",
       "      <td>NaN</td>\n",
       "      <td>5.0</td>\n",
       "      <td>0.0</td>\n",
       "      <td>0</td>\n",
       "    </tr>\n",
       "    <tr>\n",
       "      <th>3</th>\n",
       "      <td>F</td>\n",
       "      <td>27.0</td>\n",
       "      <td>NaN</td>\n",
       "      <td>SPC</td>\n",
       "      <td>12009.09</td>\n",
       "      <td>12</td>\n",
       "      <td>1.1</td>\n",
       "      <td>NaN</td>\n",
       "      <td>NaN</td>\n",
       "      <td>NaN</td>\n",
       "      <td>2.0</td>\n",
       "      <td>0.0</td>\n",
       "      <td>0</td>\n",
       "    </tr>\n",
       "    <tr>\n",
       "      <th>4</th>\n",
       "      <td>M</td>\n",
       "      <td>45.0</td>\n",
       "      <td>NaN</td>\n",
       "      <td>SPC</td>\n",
       "      <td>NaN</td>\n",
       "      <td>10</td>\n",
       "      <td>1.1</td>\n",
       "      <td>0.421385</td>\n",
       "      <td>SCH</td>\n",
       "      <td>NaN</td>\n",
       "      <td>1.0</td>\n",
       "      <td>0.0</td>\n",
       "      <td>0</td>\n",
       "    </tr>\n",
       "  </tbody>\n",
       "</table>\n",
       "</div>"
      ],
      "text/plain": [
       "  gender   age marital_status job_position  credit_sum  credit_month  \\\n",
       "0      M   NaN            NaN          UMN    59998.00            10   \n",
       "1      F   NaN            MAR          UMN    10889.00             6   \n",
       "2      M  32.0            MAR          SPC    10728.00            12   \n",
       "3      F  27.0            NaN          SPC    12009.09            12   \n",
       "4      M  45.0            NaN          SPC         NaN            10   \n",
       "\n",
       "  tariff_id  score_shk education  monthly_income  credit_count  \\\n",
       "0       1.6        NaN       GRD         30000.0           1.0   \n",
       "1       1.1        NaN       NaN             NaN           2.0   \n",
       "2       1.1        NaN       NaN             NaN           5.0   \n",
       "3       1.1        NaN       NaN             NaN           2.0   \n",
       "4       1.1   0.421385       SCH             NaN           1.0   \n",
       "\n",
       "   overdue_credit_count open_account_flg  \n",
       "0                   1.0                0  \n",
       "1                   0.0                0  \n",
       "2                   0.0                0  \n",
       "3                   0.0                0  \n",
       "4                   0.0                0  "
      ]
     },
     "execution_count": 17,
     "metadata": {},
     "output_type": "execute_result"
    }
   ],
   "source": [
    "data_raw.head()"
   ]
  },
  {
   "cell_type": "markdown",
   "id": "fde0ef87",
   "metadata": {},
   "source": [
    "## 3. Обработка редких категорий"
   ]
  },
  {
   "cell_type": "markdown",
   "id": "4165beaa",
   "metadata": {},
   "source": [
    "Посмотрим распределение значений по всем категориальным переменным:"
   ]
  },
  {
   "cell_type": "code",
   "execution_count": 18,
   "id": "8eb7703b",
   "metadata": {},
   "outputs": [
    {
     "name": "stdout",
     "output_type": "stream",
     "text": [
      "F    88697\n",
      "M    82049\n",
      "Name: gender, dtype: int64\n",
      "MAR    93954\n",
      "UNM    52149\n",
      "DIV    16969\n",
      "CIV     4196\n",
      "WID     3475\n",
      "Name: marital_status, dtype: int64\n",
      "SPC    134680\n",
      "UMN     17674\n",
      "BIS      5591\n",
      "PNA      4107\n",
      "DIR      3750\n",
      "ATP      2791\n",
      "WRK       656\n",
      "NOR       537\n",
      "WOI       352\n",
      "INP       241\n",
      "BIU       126\n",
      "WRP       110\n",
      "PNI        65\n",
      "PNV        40\n",
      "PNS        12\n",
      "HSK         8\n",
      "INV         5\n",
      "ONB         1\n",
      "Name: job_position, dtype: int64\n",
      "1.1     69355\n",
      "1.6     39117\n",
      "1.32    15537\n",
      "1.4     10970\n",
      "1.5      7497\n",
      "1.9      5538\n",
      "1.43     3930\n",
      "1.3      3339\n",
      "1.16     3232\n",
      "1.0      2245\n",
      "1.44     2228\n",
      "1.19     2102\n",
      "1.2      1306\n",
      "1.7      1007\n",
      "1.17      717\n",
      "1.21      579\n",
      "1.94      414\n",
      "1.22      376\n",
      "1.23      370\n",
      "1.91      317\n",
      "1.24      303\n",
      "1.41      132\n",
      "1.25       56\n",
      "1.18       36\n",
      "1.26       11\n",
      "1.28       10\n",
      "1.52        7\n",
      "1.27        6\n",
      "1.48        5\n",
      "1.56        2\n",
      "1.29        1\n",
      "1.96        1\n",
      "Name: tariff_id, dtype: int64\n",
      "SCH    87537\n",
      "GRD    72591\n",
      "UGR     9941\n",
      "PGR      565\n",
      "ACD      107\n",
      "Name: education, dtype: int64\n",
      "0    140690\n",
      "1     30056\n",
      "Name: open_account_flg, dtype: int64\n"
     ]
    }
   ],
   "source": [
    "categorical_colamns = [c for c in data_raw.columns if data_raw[c].dtype.name == 'category']\n",
    "for c in categorical_colamns:\n",
    "    print(data_raw[c].value_counts())"
   ]
  },
  {
   "cell_type": "markdown",
   "id": "1d27db12",
   "metadata": {},
   "source": [
    "Переменные `'job_position'` и `'tariff_id'` содержат множественные редкие категории.\n",
    "Выведем частоты категорий по переменной  `'job_position'` с помощью метода *.value_counts()*. По умолчанию пропуски не выводятся, и чтобы их вывести, необходимо для параметра *dropna* метода *.value_counts()* задать значение *False*."
   ]
  },
  {
   "cell_type": "code",
   "execution_count": 19,
   "id": "f71debdc",
   "metadata": {},
   "outputs": [
    {
     "name": "stdout",
     "output_type": "stream",
     "text": [
      "SPC    134680\n",
      "UMN     17674\n",
      "BIS      5591\n",
      "PNA      4107\n",
      "DIR      3750\n",
      "ATP      2791\n",
      "WRK       656\n",
      "NOR       537\n",
      "WOI       352\n",
      "INP       241\n",
      "BIU       126\n",
      "WRP       110\n",
      "PNI        65\n",
      "PNV        40\n",
      "PNS        12\n",
      "HSK         8\n",
      "INV         5\n",
      "ONB         1\n",
      "Name: job_position, dtype: int64\n"
     ]
    }
   ],
   "source": [
    "print(data_raw['job_position'].value_counts(dropna=False))"
   ]
  },
  {
   "cell_type": "markdown",
   "id": "7aa70e07",
   "metadata": {},
   "source": [
    "Видно, что переменная `'job_position'` не содержит пропусков. Все категории переменной с частотой менее 55 наблюдений (это категории *PNV*, *PNS*, *HSK*, *INV* и *ONB*) объеденим в отдельную категорию *OTHER*:"
   ]
  },
  {
   "cell_type": "markdown",
   "id": "6ddae3bd",
   "metadata": {},
   "source": [
    "Сначала создаем серию, у которой значениями будут частоты категорий переменной `'job_position'`."
   ]
  },
  {
   "cell_type": "code",
   "execution_count": 20,
   "id": "6ec0bc0e",
   "metadata": {},
   "outputs": [],
   "source": [
    "job_series = data_raw['job_position'].value_counts()"
   ]
  },
  {
   "cell_type": "markdown",
   "id": "8cd78bb3",
   "metadata": {},
   "source": [
    "Теперь нам надо определиться с пороговой относительной частотой. В данном случае мы хотим объединить категории с частотой 55 наблюдений и меньше в категорию *OTHER*. Мы делим 55 наблюдений на общее количество наблюдений в наборе данных (170 746 наблюдений), умножаем на 100 и получаем пороговую относительную частоту 0,032. Далее разделим частоту кажжой категории на общее количество наблюдений, умножим на 100, получим относительную частоту и сравним ее с пороговой (0,032)."
   ]
  },
  {
   "cell_type": "code",
   "execution_count": 21,
   "id": "b4e979c7",
   "metadata": {},
   "outputs": [],
   "source": [
    "mask = (job_series / job_series.sum() * 100).lt(0.032)"
   ]
  },
  {
   "cell_type": "code",
   "execution_count": 22,
   "id": "1c3de8ce",
   "metadata": {},
   "outputs": [
    {
     "data": {
      "text/plain": [
       "PNV    True\n",
       "PNS    True\n",
       "HSK    True\n",
       "INV    True\n",
       "ONB    True\n",
       "Name: job_position, dtype: bool"
      ]
     },
     "execution_count": 22,
     "metadata": {},
     "output_type": "execute_result"
    }
   ],
   "source": [
    "mask.tail()"
   ]
  },
  {
   "cell_type": "markdown",
   "id": "488f8a48",
   "metadata": {},
   "source": [
    "Теперь с помощью функции *np.where()* мы все категории, по которым возвращено значение *TRUE*, заменим на категорию *OTHER*, в противном случае оставим категории неизменными."
   ]
  },
  {
   "cell_type": "code",
   "execution_count": 23,
   "id": "5dc85669",
   "metadata": {},
   "outputs": [],
   "source": [
    "data_raw['job_position'] = np.where(data_raw['job_position'].isin(job_series[mask].index),\n",
    "                                   'OTHER', data_raw['job_position'])"
   ]
  },
  {
   "cell_type": "markdown",
   "id": "38e45064",
   "metadata": {},
   "source": [
    "Снова выведем частоты категорий по переменной `'job_position'`."
   ]
  },
  {
   "cell_type": "code",
   "execution_count": 24,
   "id": "f8138464",
   "metadata": {},
   "outputs": [
    {
     "name": "stdout",
     "output_type": "stream",
     "text": [
      "SPC      134680\n",
      "UMN       17674\n",
      "BIS        5591\n",
      "PNA        4107\n",
      "DIR        3750\n",
      "ATP        2791\n",
      "WRK         656\n",
      "NOR         537\n",
      "WOI         352\n",
      "INP         241\n",
      "BIU         126\n",
      "WRP         110\n",
      "OTHER        66\n",
      "PNI          65\n",
      "Name: job_position, dtype: int64\n"
     ]
    }
   ],
   "source": [
    "print(data_raw['job_position'].value_counts(dropna=False))"
   ]
  },
  {
   "cell_type": "markdown",
   "id": "8477083f",
   "metadata": {},
   "source": [
    "Теперь выведем частоты категорий по переменной `'tariff_id'`."
   ]
  },
  {
   "cell_type": "code",
   "execution_count": 25,
   "id": "b8cf9da3",
   "metadata": {},
   "outputs": [
    {
     "name": "stdout",
     "output_type": "stream",
     "text": [
      "1.1     69355\n",
      "1.6     39117\n",
      "1.32    15537\n",
      "1.4     10970\n",
      "1.5      7497\n",
      "1.9      5538\n",
      "1.43     3930\n",
      "1.3      3339\n",
      "1.16     3232\n",
      "1.0      2245\n",
      "1.44     2228\n",
      "1.19     2102\n",
      "1.2      1306\n",
      "1.7      1007\n",
      "1.17      717\n",
      "1.21      579\n",
      "1.94      414\n",
      "1.22      376\n",
      "1.23      370\n",
      "1.91      317\n",
      "1.24      303\n",
      "1.41      132\n",
      "1.25       56\n",
      "1.18       36\n",
      "1.26       11\n",
      "1.28       10\n",
      "1.52        7\n",
      "1.27        6\n",
      "1.48        5\n",
      "1.56        2\n",
      "1.29        1\n",
      "1.96        1\n",
      "Name: tariff_id, dtype: int64\n"
     ]
    }
   ],
   "source": [
    "print(data_raw['tariff_id'].value_counts(dropna=False))"
   ]
  },
  {
   "cell_type": "markdown",
   "id": "6b7e044e",
   "metadata": {},
   "source": [
    "Как и переменная `'job_position'`, переменная `'tariff_id'` не содержит пропусков. Все категории переменной `'tariff_id'` с частотой менее 55 наблюдений (категории *1.29, *1.96*, *1.56*, *1.48*, *1.27*, *1.52*, *1.28*, *1.26* и *1.18*) объеденим в отдельную категорию *1.99*."
   ]
  },
  {
   "cell_type": "code",
   "execution_count": 26,
   "id": "b4ca45a5",
   "metadata": {},
   "outputs": [
    {
     "name": "stdout",
     "output_type": "stream",
     "text": [
      "1.1     69355\n",
      "1.6     39117\n",
      "1.32    15537\n",
      "1.4     10970\n",
      "1.5      7497\n",
      "1.9      5538\n",
      "1.43     3930\n",
      "1.3      3339\n",
      "1.16     3232\n",
      "1.0      2245\n",
      "1.44     2228\n",
      "1.19     2102\n",
      "1.2      1306\n",
      "1.7      1007\n",
      "1.17      717\n",
      "1.21      579\n",
      "1.94      414\n",
      "1.22      376\n",
      "1.23      370\n",
      "1.91      317\n",
      "1.24      303\n",
      "1.41      132\n",
      "1.99       79\n",
      "1.25       56\n",
      "Name: tariff_id, dtype: int64\n"
     ]
    }
   ],
   "source": [
    "tarrif_series = data_raw['tariff_id'].value_counts()\n",
    "mmask = (tarrif_series / tarrif_series.sum() * 100).lt(0.032)\n",
    "data_raw['tariff_id'] = np.where(data_raw['tariff_id'].isin(tarrif_series[mmask].index),\n",
    "                                   '1.99', data_raw['tariff_id'])\n",
    "print(data_raw['tariff_id'].value_counts(dropna=False))"
   ]
  },
  {
   "cell_type": "markdown",
   "id": "d2e3b8f5",
   "metadata": {},
   "source": [
    "Теперь на основе переменной `'tariff_id'` создадим количественную переменную `'tariff'`. Затем переменной `'tariff_id'` присвоим тип *str* и заменим в ее значениях точки на символы нижнего подчеркивания."
   ]
  },
  {
   "cell_type": "code",
   "execution_count": 27,
   "id": "8bbcfe05",
   "metadata": {},
   "outputs": [],
   "source": [
    "data_raw['tariff'] = data_raw['tariff_id'].astype('float')"
   ]
  },
  {
   "cell_type": "code",
   "execution_count": 28,
   "id": "336cd3d3",
   "metadata": {},
   "outputs": [],
   "source": [
    "data_raw['tariff_id'] = data_raw['tariff_id'].astype('str').str.replace('.', '_', regex=True)"
   ]
  },
  {
   "cell_type": "markdown",
   "id": "9e1181ee",
   "metadata": {},
   "source": [
    "Взглянем на распределение частот переменной `'tariff_id'` после укрупнения категорий."
   ]
  },
  {
   "cell_type": "code",
   "execution_count": 29,
   "id": "791cb17d",
   "metadata": {},
   "outputs": [
    {
     "name": "stdout",
     "output_type": "stream",
     "text": [
      "1_1     69355\n",
      "1_6     39117\n",
      "1_32    15537\n",
      "1_4     10970\n",
      "1_5      7497\n",
      "1_9      5538\n",
      "1_43     3930\n",
      "1_3      3339\n",
      "1_16     3232\n",
      "1_0      2245\n",
      "1_44     2228\n",
      "1_19     2102\n",
      "1_2      1306\n",
      "1_7      1007\n",
      "1_17      717\n",
      "1_21      579\n",
      "1_94      414\n",
      "1_22      376\n",
      "1_23      370\n",
      "1_91      317\n",
      "1_24      303\n",
      "1_41      132\n",
      "1_99       79\n",
      "1_25       56\n",
      "Name: tariff_id, dtype: int64\n"
     ]
    }
   ],
   "source": [
    "print(data_raw['tariff_id'].value_counts(dropna=False))"
   ]
  },
  {
   "cell_type": "markdown",
   "id": "61e67d51",
   "metadata": {},
   "source": [
    "## 4. Обработка пропущенных значений"
   ]
  },
  {
   "cell_type": "code",
   "execution_count": 30,
   "id": "0bf41c9c",
   "metadata": {},
   "outputs": [
    {
     "data": {
      "text/plain": [
       "gender                     0\n",
       "age                        3\n",
       "marital_status             3\n",
       "job_position               0\n",
       "credit_sum                 2\n",
       "credit_month               0\n",
       "tariff_id                  0\n",
       "score_shk                  7\n",
       "education                  5\n",
       "monthly_income             5\n",
       "credit_count            9230\n",
       "overdue_credit_count    9230\n",
       "open_account_flg           0\n",
       "tariff                     0\n",
       "dtype: int64"
      ]
     },
     "execution_count": 30,
     "metadata": {},
     "output_type": "execute_result"
    }
   ],
   "source": [
    "data_raw.isna().sum()"
   ]
  },
  {
   "cell_type": "markdown",
   "id": "85309c5c",
   "metadata": {},
   "source": [
    "Заменим пропуски по количественной переменной `'age'` медианой. Для этого воспользуемся методом *.fillna()*, задав с помощью параметра *inplace* значение *TRUE*, чтобы выполнить импутацию на месте."
   ]
  },
  {
   "cell_type": "code",
   "execution_count": 31,
   "id": "bbbed116",
   "metadata": {},
   "outputs": [],
   "source": [
    "data_raw['age'].fillna(data_raw['age'].median(), inplace = True)"
   ]
  },
  {
   "cell_type": "markdown",
   "id": "b4e69981",
   "metadata": {},
   "source": [
    "Теперь выполним импутацию количественных переменных `'credit_sum'`, `'score_shk'` и `'monthly_income'` медианами, воспользовавшись циклом *for*:"
   ]
  },
  {
   "cell_type": "code",
   "execution_count": 32,
   "id": "ac6b90e6",
   "metadata": {},
   "outputs": [],
   "source": [
    "for i in ['credit_sum', 'score_shk', 'monthly_income']:\n",
    "    data_raw[i].fillna(data_raw[i].median(), inplace=True)"
   ]
  },
  {
   "cell_type": "markdown",
   "id": "ad7d7223",
   "metadata": {},
   "source": [
    "Пропуски количественных переменных `'credit_count'` и `'overdue_credit_count'` заменим значениями *-1*:"
   ]
  },
  {
   "cell_type": "code",
   "execution_count": 33,
   "id": "b3a25b69",
   "metadata": {},
   "outputs": [],
   "source": [
    "for i in ['credit_count', 'overdue_credit_count']:\n",
    "    data_raw[i].fillna(-1, inplace=True)"
   ]
  },
  {
   "cell_type": "markdown",
   "id": "c428877f",
   "metadata": {},
   "source": [
    "Теперь приступаем к импутации пропусков в категориальных переменных. Выведем частоты категорий переменной `'marital_status'` с помощью метода *.value_counts()*."
   ]
  },
  {
   "cell_type": "code",
   "execution_count": 34,
   "id": "684d7c46",
   "metadata": {},
   "outputs": [
    {
     "name": "stdout",
     "output_type": "stream",
     "text": [
      "MAR    93954\n",
      "UNM    52149\n",
      "DIV    16969\n",
      "CIV     4196\n",
      "WID     3475\n",
      "NaN        3\n",
      "Name: marital_status, dtype: int64\n"
     ]
    }
   ],
   "source": [
    "print(data_raw['marital_status'].value_counts(dropna=False))"
   ]
  },
  {
   "cell_type": "markdown",
   "id": "14a5af50",
   "metadata": {},
   "source": [
    "Заменим пропуски модой - самой часто встречающейся категорией, в данном случае категорией *MAR*. Моду можно вычислить с помощью метода *.mode()*."
   ]
  },
  {
   "cell_type": "code",
   "execution_count": 35,
   "id": "8829ab46",
   "metadata": {},
   "outputs": [
    {
     "data": {
      "text/plain": [
       "0    MAR\n",
       "Name: marital_status, dtype: category\n",
       "Categories (5, object): ['CIV', 'DIV', 'MAR', 'UNM', 'WID']"
      ]
     },
     "execution_count": 35,
     "metadata": {},
     "output_type": "execute_result"
    }
   ],
   "source": [
    "data_raw['marital_status'].mode()"
   ]
  },
  {
   "cell_type": "code",
   "execution_count": 36,
   "id": "c65a1f04",
   "metadata": {},
   "outputs": [],
   "source": [
    "data_raw['marital_status'] = data_raw['marital_status'].fillna('MAR')"
   ]
  },
  {
   "cell_type": "markdown",
   "id": "a56c7465",
   "metadata": {},
   "source": [
    "Снова выведем частоты категорий переменной `'marital_status'`."
   ]
  },
  {
   "cell_type": "code",
   "execution_count": 37,
   "id": "25299f67",
   "metadata": {},
   "outputs": [
    {
     "name": "stdout",
     "output_type": "stream",
     "text": [
      "MAR    93957\n",
      "UNM    52149\n",
      "DIV    16969\n",
      "CIV     4196\n",
      "WID     3475\n",
      "Name: marital_status, dtype: int64\n"
     ]
    }
   ],
   "source": [
    "print(data_raw['marital_status'].value_counts(dropna=False))"
   ]
  },
  {
   "cell_type": "markdown",
   "id": "a31022dd",
   "metadata": {},
   "source": [
    "Выведем частоты категорий переменной `'education'`."
   ]
  },
  {
   "cell_type": "code",
   "execution_count": 38,
   "id": "cae28fe6",
   "metadata": {},
   "outputs": [
    {
     "name": "stdout",
     "output_type": "stream",
     "text": [
      "SCH    87537\n",
      "GRD    72591\n",
      "UGR     9941\n",
      "PGR      565\n",
      "ACD      107\n",
      "NaN        5\n",
      "Name: education, dtype: int64\n"
     ]
    }
   ],
   "source": [
    "print(data_raw['education'].value_counts(dropna=False))"
   ]
  },
  {
   "cell_type": "markdown",
   "id": "741d295b",
   "metadata": {},
   "source": [
    "Заменим пропуски модой, но сделаем это с помощью цепочки методов *.fillna()* и *.value_counts()*:"
   ]
  },
  {
   "cell_type": "code",
   "execution_count": 39,
   "id": "4c331da7",
   "metadata": {},
   "outputs": [],
   "source": [
    "data_raw['education'].fillna(data_raw['education'].value_counts().index[0], inplace=True)"
   ]
  },
  {
   "cell_type": "markdown",
   "id": "650db527",
   "metadata": {},
   "source": [
    "Частота с индексом *0* в распределении частот, вычисляемом методом *.value_counts()*, и будет как раз модой."
   ]
  },
  {
   "cell_type": "markdown",
   "id": "00c596b3",
   "metadata": {},
   "source": [
    "Проверим, что не осталось пропущенных значениий:"
   ]
  },
  {
   "cell_type": "code",
   "execution_count": 40,
   "id": "b13da924",
   "metadata": {},
   "outputs": [
    {
     "data": {
      "text/plain": [
       "gender                  0\n",
       "age                     0\n",
       "marital_status          0\n",
       "job_position            0\n",
       "credit_sum              0\n",
       "credit_month            0\n",
       "tariff_id               0\n",
       "score_shk               0\n",
       "education               0\n",
       "monthly_income          0\n",
       "credit_count            0\n",
       "overdue_credit_count    0\n",
       "open_account_flg        0\n",
       "tariff                  0\n",
       "dtype: int64"
      ]
     },
     "execution_count": 40,
     "metadata": {},
     "output_type": "execute_result"
    }
   ],
   "source": [
    "data_raw.isna().sum()"
   ]
  },
  {
   "cell_type": "markdown",
   "id": "f8897be5",
   "metadata": {},
   "source": [
    "## 5. Визуализация"
   ]
  },
  {
   "cell_type": "code",
   "execution_count": 41,
   "id": "c6a46a3b",
   "metadata": {},
   "outputs": [
    {
     "data": {
      "text/html": [
       "<div>\n",
       "<style scoped>\n",
       "    .dataframe tbody tr th:only-of-type {\n",
       "        vertical-align: middle;\n",
       "    }\n",
       "\n",
       "    .dataframe tbody tr th {\n",
       "        vertical-align: top;\n",
       "    }\n",
       "\n",
       "    .dataframe thead th {\n",
       "        text-align: right;\n",
       "    }\n",
       "</style>\n",
       "<table border=\"1\" class=\"dataframe\">\n",
       "  <thead>\n",
       "    <tr style=\"text-align: right;\">\n",
       "      <th></th>\n",
       "      <th>age</th>\n",
       "      <th>credit_sum</th>\n",
       "      <th>credit_month</th>\n",
       "      <th>score_shk</th>\n",
       "      <th>monthly_income</th>\n",
       "      <th>credit_count</th>\n",
       "      <th>overdue_credit_count</th>\n",
       "      <th>tariff</th>\n",
       "    </tr>\n",
       "  </thead>\n",
       "  <tbody>\n",
       "    <tr>\n",
       "      <th>count</th>\n",
       "      <td>170746.000000</td>\n",
       "      <td>170746.000000</td>\n",
       "      <td>170746.000000</td>\n",
       "      <td>170746.000000</td>\n",
       "      <td>170746.000000</td>\n",
       "      <td>170746.000000</td>\n",
       "      <td>170746.000000</td>\n",
       "      <td>170746.000000</td>\n",
       "    </tr>\n",
       "    <tr>\n",
       "      <th>mean</th>\n",
       "      <td>36.497218</td>\n",
       "      <td>26095.040543</td>\n",
       "      <td>10.980749</td>\n",
       "      <td>0.469473</td>\n",
       "      <td>40138.445674</td>\n",
       "      <td>1.939337</td>\n",
       "      <td>-0.010478</td>\n",
       "      <td>1.324229</td>\n",
       "    </tr>\n",
       "    <tr>\n",
       "      <th>std</th>\n",
       "      <td>10.545957</td>\n",
       "      <td>16234.787554</td>\n",
       "      <td>3.536698</td>\n",
       "      <td>0.124263</td>\n",
       "      <td>25044.022734</td>\n",
       "      <td>1.865795</td>\n",
       "      <td>0.313510</td>\n",
       "      <td>0.236226</td>\n",
       "    </tr>\n",
       "    <tr>\n",
       "      <th>min</th>\n",
       "      <td>18.000000</td>\n",
       "      <td>2736.000000</td>\n",
       "      <td>3.000000</td>\n",
       "      <td>0.000000</td>\n",
       "      <td>5000.000000</td>\n",
       "      <td>-1.000000</td>\n",
       "      <td>-1.000000</td>\n",
       "      <td>1.000000</td>\n",
       "    </tr>\n",
       "    <tr>\n",
       "      <th>25%</th>\n",
       "      <td>28.000000</td>\n",
       "      <td>14908.000000</td>\n",
       "      <td>10.000000</td>\n",
       "      <td>0.379549</td>\n",
       "      <td>25000.000000</td>\n",
       "      <td>1.000000</td>\n",
       "      <td>0.000000</td>\n",
       "      <td>1.100000</td>\n",
       "    </tr>\n",
       "    <tr>\n",
       "      <th>50%</th>\n",
       "      <td>34.000000</td>\n",
       "      <td>21229.000000</td>\n",
       "      <td>10.000000</td>\n",
       "      <td>0.461599</td>\n",
       "      <td>35000.000000</td>\n",
       "      <td>2.000000</td>\n",
       "      <td>0.000000</td>\n",
       "      <td>1.320000</td>\n",
       "    </tr>\n",
       "    <tr>\n",
       "      <th>75%</th>\n",
       "      <td>43.000000</td>\n",
       "      <td>32068.000000</td>\n",
       "      <td>12.000000</td>\n",
       "      <td>0.552396</td>\n",
       "      <td>50000.000000</td>\n",
       "      <td>3.000000</td>\n",
       "      <td>0.000000</td>\n",
       "      <td>1.600000</td>\n",
       "    </tr>\n",
       "    <tr>\n",
       "      <th>max</th>\n",
       "      <td>71.000000</td>\n",
       "      <td>200000.000000</td>\n",
       "      <td>36.000000</td>\n",
       "      <td>1.128291</td>\n",
       "      <td>950000.000000</td>\n",
       "      <td>21.000000</td>\n",
       "      <td>3.000000</td>\n",
       "      <td>1.990000</td>\n",
       "    </tr>\n",
       "  </tbody>\n",
       "</table>\n",
       "</div>"
      ],
      "text/plain": [
       "                 age     credit_sum   credit_month      score_shk  \\\n",
       "count  170746.000000  170746.000000  170746.000000  170746.000000   \n",
       "mean       36.497218   26095.040543      10.980749       0.469473   \n",
       "std        10.545957   16234.787554       3.536698       0.124263   \n",
       "min        18.000000    2736.000000       3.000000       0.000000   \n",
       "25%        28.000000   14908.000000      10.000000       0.379549   \n",
       "50%        34.000000   21229.000000      10.000000       0.461599   \n",
       "75%        43.000000   32068.000000      12.000000       0.552396   \n",
       "max        71.000000  200000.000000      36.000000       1.128291   \n",
       "\n",
       "       monthly_income   credit_count  overdue_credit_count         tariff  \n",
       "count   170746.000000  170746.000000         170746.000000  170746.000000  \n",
       "mean     40138.445674       1.939337             -0.010478       1.324229  \n",
       "std      25044.022734       1.865795              0.313510       0.236226  \n",
       "min       5000.000000      -1.000000             -1.000000       1.000000  \n",
       "25%      25000.000000       1.000000              0.000000       1.100000  \n",
       "50%      35000.000000       2.000000              0.000000       1.320000  \n",
       "75%      50000.000000       3.000000              0.000000       1.600000  \n",
       "max     950000.000000      21.000000              3.000000       1.990000  "
      ]
     },
     "execution_count": 41,
     "metadata": {},
     "output_type": "execute_result"
    }
   ],
   "source": [
    "data_raw.describe()"
   ]
  },
  {
   "cell_type": "markdown",
   "id": "0f5560ae",
   "metadata": {},
   "source": [
    "Для каждого количественного признака приведены средние значения, стандартное отклонение, минимальное и макимальное значения, медиана и значения квартилей.\n",
    "\n",
    "По умолчанию этот метод дает информацию только о количественных признаках. Получим информацию о категориальных:"
   ]
  },
  {
   "cell_type": "code",
   "execution_count": 42,
   "id": "51572bb4",
   "metadata": {},
   "outputs": [
    {
     "data": {
      "text/html": [
       "<div>\n",
       "<style scoped>\n",
       "    .dataframe tbody tr th:only-of-type {\n",
       "        vertical-align: middle;\n",
       "    }\n",
       "\n",
       "    .dataframe tbody tr th {\n",
       "        vertical-align: top;\n",
       "    }\n",
       "\n",
       "    .dataframe thead th {\n",
       "        text-align: right;\n",
       "    }\n",
       "</style>\n",
       "<table border=\"1\" class=\"dataframe\">\n",
       "  <thead>\n",
       "    <tr style=\"text-align: right;\">\n",
       "      <th></th>\n",
       "      <th>gender</th>\n",
       "      <th>marital_status</th>\n",
       "      <th>education</th>\n",
       "      <th>open_account_flg</th>\n",
       "    </tr>\n",
       "  </thead>\n",
       "  <tbody>\n",
       "    <tr>\n",
       "      <th>count</th>\n",
       "      <td>170746</td>\n",
       "      <td>170746</td>\n",
       "      <td>170746</td>\n",
       "      <td>170746</td>\n",
       "    </tr>\n",
       "    <tr>\n",
       "      <th>unique</th>\n",
       "      <td>2</td>\n",
       "      <td>5</td>\n",
       "      <td>5</td>\n",
       "      <td>2</td>\n",
       "    </tr>\n",
       "    <tr>\n",
       "      <th>top</th>\n",
       "      <td>F</td>\n",
       "      <td>MAR</td>\n",
       "      <td>SCH</td>\n",
       "      <td>0</td>\n",
       "    </tr>\n",
       "    <tr>\n",
       "      <th>freq</th>\n",
       "      <td>88697</td>\n",
       "      <td>93957</td>\n",
       "      <td>87542</td>\n",
       "      <td>140690</td>\n",
       "    </tr>\n",
       "  </tbody>\n",
       "</table>\n",
       "</div>"
      ],
      "text/plain": [
       "        gender marital_status education  open_account_flg\n",
       "count   170746         170746    170746            170746\n",
       "unique       2              5         5                 2\n",
       "top          F            MAR       SCH                 0\n",
       "freq     88697          93957     87542            140690"
      ]
     },
     "execution_count": 42,
     "metadata": {},
     "output_type": "execute_result"
    }
   ],
   "source": [
    "data_raw.describe(include=['category'])"
   ]
  },
  {
   "cell_type": "code",
   "execution_count": null,
   "id": "4ab2f881",
   "metadata": {},
   "outputs": [],
   "source": []
  },
  {
   "cell_type": "markdown",
   "id": "0196ac6a",
   "metadata": {},
   "source": [
    "#### Построим график Суммы кредита от Месячного заработка  с учетом Сферы занятости:"
   ]
  },
  {
   "cell_type": "code",
   "execution_count": 43,
   "id": "62392933",
   "metadata": {},
   "outputs": [
    {
     "data": {
      "text/plain": [
       "<matplotlib.legend.Legend at 0x1738b9b73a0>"
      ]
     },
     "execution_count": 43,
     "metadata": {},
     "output_type": "execute_result"
    },
    {
     "data": {
      "image/png": "[encoded data removed]",
      "text/plain": [
       "<Figure size 720x576 with 1 Axes>"
      ]
     },
     "metadata": {
      "needs_background": "light"
     },
     "output_type": "display_data"
    }
   ],
   "source": [
    "random_subset = np.random.choice(np.arange(data_raw.shape[0]), size=1000, replace=False)\n",
    "\n",
    "plt.figure(figsize = (10, 8))\n",
    "sns.scatterplot(x='monthly_income', y='credit_sum', hue='job_position', size='credit_count', data=data_raw.iloc[random_subset], alpha=0.7, legend=\"auto\")\n",
    "plt.legend()"
   ]
  },
  {
   "cell_type": "markdown",
   "id": "9db397bc",
   "metadata": {},
   "source": [
    "#### Построим все диаграммы рассеивания:"
   ]
  },
  {
   "cell_type": "code",
   "execution_count": 44,
   "id": "209d30ee",
   "metadata": {},
   "outputs": [
    {
     "data": {
      "text/plain": [
       "<seaborn.axisgrid.PairGrid at 0x1738b9b62c0>"
      ]
     },
     "execution_count": 44,
     "metadata": {},
     "output_type": "execute_result"
    },
    {
     "data": {
      "image/png": "[encoded data removed]",
      "text/plain": [
       "<Figure size 1507.62x1440 with 72 Axes>"
      ]
     },
     "metadata": {
      "needs_background": "light"
     },
     "output_type": "display_data"
    }
   ],
   "source": [
    "random_subset = np.random.choice(np.arange(data_raw.shape[0]), size=100, replace=False)\n",
    "sns.pairplot(data_raw.iloc[random_subset], hue='job_position', diag_kind='hist')"
   ]
  },
  {
   "cell_type": "markdown",
   "id": "5dba42e0",
   "metadata": {},
   "source": [
    "#### Построим матрицу корреляции"
   ]
  },
  {
   "cell_type": "markdown",
   "id": "9728efe1",
   "metadata": {},
   "source": [
    "Можно вычислить матрицу корреляции для количественных признаков:"
   ]
  },
  {
   "cell_type": "code",
   "execution_count": 45,
   "id": "1c90e807",
   "metadata": {},
   "outputs": [
    {
     "data": {
      "text/html": [
       "<div>\n",
       "<style scoped>\n",
       "    .dataframe tbody tr th:only-of-type {\n",
       "        vertical-align: middle;\n",
       "    }\n",
       "\n",
       "    .dataframe tbody tr th {\n",
       "        vertical-align: top;\n",
       "    }\n",
       "\n",
       "    .dataframe thead th {\n",
       "        text-align: right;\n",
       "    }\n",
       "</style>\n",
       "<table border=\"1\" class=\"dataframe\">\n",
       "  <thead>\n",
       "    <tr style=\"text-align: right;\">\n",
       "      <th></th>\n",
       "      <th>age</th>\n",
       "      <th>credit_sum</th>\n",
       "      <th>credit_month</th>\n",
       "      <th>score_shk</th>\n",
       "      <th>monthly_income</th>\n",
       "      <th>credit_count</th>\n",
       "      <th>overdue_credit_count</th>\n",
       "      <th>tariff</th>\n",
       "    </tr>\n",
       "  </thead>\n",
       "  <tbody>\n",
       "    <tr>\n",
       "      <th>age</th>\n",
       "      <td>1.000000</td>\n",
       "      <td>-0.096613</td>\n",
       "      <td>0.007099</td>\n",
       "      <td>-0.166308</td>\n",
       "      <td>-0.014882</td>\n",
       "      <td>0.184876</td>\n",
       "      <td>0.167628</td>\n",
       "      <td>-0.109205</td>\n",
       "    </tr>\n",
       "    <tr>\n",
       "      <th>credit_sum</th>\n",
       "      <td>-0.096613</td>\n",
       "      <td>1.000000</td>\n",
       "      <td>0.228323</td>\n",
       "      <td>0.054422</td>\n",
       "      <td>0.351489</td>\n",
       "      <td>-0.001382</td>\n",
       "      <td>-0.033639</td>\n",
       "      <td>0.091990</td>\n",
       "    </tr>\n",
       "    <tr>\n",
       "      <th>credit_month</th>\n",
       "      <td>0.007099</td>\n",
       "      <td>0.228323</td>\n",
       "      <td>1.000000</td>\n",
       "      <td>0.040373</td>\n",
       "      <td>0.007660</td>\n",
       "      <td>0.049876</td>\n",
       "      <td>0.012886</td>\n",
       "      <td>-0.055903</td>\n",
       "    </tr>\n",
       "    <tr>\n",
       "      <th>score_shk</th>\n",
       "      <td>-0.166308</td>\n",
       "      <td>0.054422</td>\n",
       "      <td>0.040373</td>\n",
       "      <td>1.000000</td>\n",
       "      <td>-0.107255</td>\n",
       "      <td>-0.139903</td>\n",
       "      <td>-0.006843</td>\n",
       "      <td>0.396755</td>\n",
       "    </tr>\n",
       "    <tr>\n",
       "      <th>monthly_income</th>\n",
       "      <td>-0.014882</td>\n",
       "      <td>0.351489</td>\n",
       "      <td>0.007660</td>\n",
       "      <td>-0.107255</td>\n",
       "      <td>1.000000</td>\n",
       "      <td>0.150961</td>\n",
       "      <td>0.056825</td>\n",
       "      <td>0.013614</td>\n",
       "    </tr>\n",
       "    <tr>\n",
       "      <th>credit_count</th>\n",
       "      <td>0.184876</td>\n",
       "      <td>-0.001382</td>\n",
       "      <td>0.049876</td>\n",
       "      <td>-0.139903</td>\n",
       "      <td>0.150961</td>\n",
       "      <td>1.000000</td>\n",
       "      <td>0.391939</td>\n",
       "      <td>-0.069525</td>\n",
       "    </tr>\n",
       "    <tr>\n",
       "      <th>overdue_credit_count</th>\n",
       "      <td>0.167628</td>\n",
       "      <td>-0.033639</td>\n",
       "      <td>0.012886</td>\n",
       "      <td>-0.006843</td>\n",
       "      <td>0.056825</td>\n",
       "      <td>0.391939</td>\n",
       "      <td>1.000000</td>\n",
       "      <td>0.012695</td>\n",
       "    </tr>\n",
       "    <tr>\n",
       "      <th>tariff</th>\n",
       "      <td>-0.109205</td>\n",
       "      <td>0.091990</td>\n",
       "      <td>-0.055903</td>\n",
       "      <td>0.396755</td>\n",
       "      <td>0.013614</td>\n",
       "      <td>-0.069525</td>\n",
       "      <td>0.012695</td>\n",
       "      <td>1.000000</td>\n",
       "    </tr>\n",
       "  </tbody>\n",
       "</table>\n",
       "</div>"
      ],
      "text/plain": [
       "                           age  credit_sum  credit_month  score_shk  \\\n",
       "age                   1.000000   -0.096613      0.007099  -0.166308   \n",
       "credit_sum           -0.096613    1.000000      0.228323   0.054422   \n",
       "credit_month          0.007099    0.228323      1.000000   0.040373   \n",
       "score_shk            -0.166308    0.054422      0.040373   1.000000   \n",
       "monthly_income       -0.014882    0.351489      0.007660  -0.107255   \n",
       "credit_count          0.184876   -0.001382      0.049876  -0.139903   \n",
       "overdue_credit_count  0.167628   -0.033639      0.012886  -0.006843   \n",
       "tariff               -0.109205    0.091990     -0.055903   0.396755   \n",
       "\n",
       "                      monthly_income  credit_count  overdue_credit_count  \\\n",
       "age                        -0.014882      0.184876              0.167628   \n",
       "credit_sum                  0.351489     -0.001382             -0.033639   \n",
       "credit_month                0.007660      0.049876              0.012886   \n",
       "score_shk                  -0.107255     -0.139903             -0.006843   \n",
       "monthly_income              1.000000      0.150961              0.056825   \n",
       "credit_count                0.150961      1.000000              0.391939   \n",
       "overdue_credit_count        0.056825      0.391939              1.000000   \n",
       "tariff                      0.013614     -0.069525              0.012695   \n",
       "\n",
       "                        tariff  \n",
       "age                  -0.109205  \n",
       "credit_sum            0.091990  \n",
       "credit_month         -0.055903  \n",
       "score_shk             0.396755  \n",
       "monthly_income        0.013614  \n",
       "credit_count         -0.069525  \n",
       "overdue_credit_count  0.012695  \n",
       "tariff                1.000000  "
      ]
     },
     "execution_count": 45,
     "metadata": {},
     "output_type": "execute_result"
    }
   ],
   "source": [
    "data_raw.corr()"
   ]
  },
  {
   "cell_type": "markdown",
   "id": "fe1c2f09",
   "metadata": {},
   "source": [
    "Удобно использовать визуальный образ этой матрицы. Чем светлее ячейка, тем больше по абсолютной величине коэффициент корреляции:"
   ]
  },
  {
   "cell_type": "code",
   "execution_count": 46,
   "id": "c6d217db",
   "metadata": {},
   "outputs": [
    {
     "data": {
      "image/png": "[encoded data removed]",
      "text/plain": [
       "<Figure size 432x288 with 2 Axes>"
      ]
     },
     "metadata": {
      "needs_background": "light"
     },
     "output_type": "display_data"
    }
   ],
   "source": [
    "sns.heatmap(data_raw.corr(), square=True, annot=True, fmt='.2f', vmin=-1, vmax=1, cmap='coolwarm')\n",
    "pass"
   ]
  },
  {
   "cell_type": "markdown",
   "id": "0485708e",
   "metadata": {},
   "source": [
    "#### Рассмотрим соотношение: Факт открытия кредитного счета в данном банке или его отсутствие."
   ]
  },
  {
   "cell_type": "code",
   "execution_count": 47,
   "id": "03cdfaf7",
   "metadata": {},
   "outputs": [
    {
     "data": {
      "image/png": "[encoded data removed]",
      "text/plain": [
       "<Figure size 432x288 with 1 Axes>"
      ]
     },
     "metadata": {
      "needs_background": "light"
     },
     "output_type": "display_data"
    }
   ],
   "source": [
    "sns.countplot(x='open_account_flg', data=data_raw)\n",
    "pass"
   ]
  },
  {
   "cell_type": "markdown",
   "id": "c2a51767",
   "metadata": {},
   "source": [
    "Наблюдаем преобладание класса *0*: клиент не открыл кредитный счет в банке."
   ]
  },
  {
   "cell_type": "markdown",
   "id": "01a68822",
   "metadata": {},
   "source": [
    "## 6. Дамми-кодирование (One-hot Encoding)"
   ]
  },
  {
   "cell_type": "markdown",
   "id": "e6c72c4f",
   "metadata": {},
   "source": [
    "Функция *pd.get_dummies()* автоматически преобразует заданную категориальную переменную в набор дамми-меременных. Давайте преобразуем переменную `'marital_status'` в набор дамми-переменных по методу неполного ранга."
   ]
  },
  {
   "cell_type": "code",
   "execution_count": 48,
   "id": "a89b8bb2",
   "metadata": {},
   "outputs": [],
   "source": [
    "dummies_unfull_rank_marital_status = pd.get_dummies(data_raw['marital_status'])"
   ]
  },
  {
   "cell_type": "markdown",
   "id": "448ce623",
   "metadata": {},
   "source": [
    "Выведем первые пять наблюдений:"
   ]
  },
  {
   "cell_type": "code",
   "execution_count": 49,
   "id": "f12ef9ba",
   "metadata": {},
   "outputs": [
    {
     "data": {
      "text/html": [
       "<div>\n",
       "<style scoped>\n",
       "    .dataframe tbody tr th:only-of-type {\n",
       "        vertical-align: middle;\n",
       "    }\n",
       "\n",
       "    .dataframe tbody tr th {\n",
       "        vertical-align: top;\n",
       "    }\n",
       "\n",
       "    .dataframe thead th {\n",
       "        text-align: right;\n",
       "    }\n",
       "</style>\n",
       "<table border=\"1\" class=\"dataframe\">\n",
       "  <thead>\n",
       "    <tr style=\"text-align: right;\">\n",
       "      <th></th>\n",
       "      <th>CIV</th>\n",
       "      <th>DIV</th>\n",
       "      <th>MAR</th>\n",
       "      <th>UNM</th>\n",
       "      <th>WID</th>\n",
       "    </tr>\n",
       "  </thead>\n",
       "  <tbody>\n",
       "    <tr>\n",
       "      <th>0</th>\n",
       "      <td>0</td>\n",
       "      <td>0</td>\n",
       "      <td>1</td>\n",
       "      <td>0</td>\n",
       "      <td>0</td>\n",
       "    </tr>\n",
       "    <tr>\n",
       "      <th>1</th>\n",
       "      <td>0</td>\n",
       "      <td>0</td>\n",
       "      <td>1</td>\n",
       "      <td>0</td>\n",
       "      <td>0</td>\n",
       "    </tr>\n",
       "    <tr>\n",
       "      <th>2</th>\n",
       "      <td>0</td>\n",
       "      <td>0</td>\n",
       "      <td>1</td>\n",
       "      <td>0</td>\n",
       "      <td>0</td>\n",
       "    </tr>\n",
       "    <tr>\n",
       "      <th>3</th>\n",
       "      <td>0</td>\n",
       "      <td>0</td>\n",
       "      <td>1</td>\n",
       "      <td>0</td>\n",
       "      <td>0</td>\n",
       "    </tr>\n",
       "    <tr>\n",
       "      <th>4</th>\n",
       "      <td>0</td>\n",
       "      <td>0</td>\n",
       "      <td>1</td>\n",
       "      <td>0</td>\n",
       "      <td>0</td>\n",
       "    </tr>\n",
       "  </tbody>\n",
       "</table>\n",
       "</div>"
      ],
      "text/plain": [
       "   CIV  DIV  MAR  UNM  WID\n",
       "0    0    0    1    0    0\n",
       "1    0    0    1    0    0\n",
       "2    0    0    1    0    0\n",
       "3    0    0    1    0    0\n",
       "4    0    0    1    0    0"
      ]
     },
     "execution_count": 49,
     "metadata": {},
     "output_type": "execute_result"
    }
   ],
   "source": [
    "dummies_unfull_rank_marital_status.head()"
   ]
  },
  {
   "cell_type": "markdown",
   "id": "b3dbc93f",
   "metadata": {},
   "source": [
    "Функция *pd.get_dummies()* автоматически преобразует все столбы, которые являются категориальными переменнными, в дами-переменные."
   ]
  },
  {
   "cell_type": "code",
   "execution_count": 50,
   "id": "c552b073",
   "metadata": {},
   "outputs": [
    {
     "name": "stdout",
     "output_type": "stream",
     "text": [
      "Исходные переменные:\n",
      " ['gender', 'age', 'marital_status', 'job_position', 'credit_sum', 'credit_month', 'tariff_id', 'score_shk', 'education', 'monthly_income', 'credit_count', 'overdue_credit_count', 'open_account_flg', 'tariff'] \n",
      "\n",
      "Переменные после get_dummies:\n",
      " ['age', 'credit_sum', 'credit_month', 'score_shk', 'monthly_income', 'credit_count', 'overdue_credit_count', 'tariff', 'gender_F', 'gender_M', 'marital_status_CIV', 'marital_status_DIV', 'marital_status_MAR', 'marital_status_UNM', 'marital_status_WID', 'job_position_ATP', 'job_position_BIS', 'job_position_BIU', 'job_position_DIR', 'job_position_INP', 'job_position_NOR', 'job_position_OTHER', 'job_position_PNA', 'job_position_PNI', 'job_position_SPC', 'job_position_UMN', 'job_position_WOI', 'job_position_WRK', 'job_position_WRP', 'tariff_id_1_0', 'tariff_id_1_1', 'tariff_id_1_16', 'tariff_id_1_17', 'tariff_id_1_19', 'tariff_id_1_2', 'tariff_id_1_21', 'tariff_id_1_22', 'tariff_id_1_23', 'tariff_id_1_24', 'tariff_id_1_25', 'tariff_id_1_3', 'tariff_id_1_32', 'tariff_id_1_4', 'tariff_id_1_41', 'tariff_id_1_43', 'tariff_id_1_44', 'tariff_id_1_5', 'tariff_id_1_6', 'tariff_id_1_7', 'tariff_id_1_9', 'tariff_id_1_91', 'tariff_id_1_94', 'tariff_id_1_99', 'education_ACD', 'education_GRD', 'education_PGR', 'education_SCH', 'education_UGR', 'open_account_flg_0', 'open_account_flg_1'] \n",
      "\n"
     ]
    }
   ],
   "source": [
    "#печатаем названия столбцов до и после дамми-кодирования\n",
    "print(\"Исходные переменные:\\n\", list(data_raw.columns), \"\\n\")\n",
    "data_raw_dummies = pd.get_dummies(data_raw)\n",
    "print(\"Переменные после get_dummies:\\n\", list(data_raw_dummies.columns), \"\\n\")"
   ]
  },
  {
   "cell_type": "code",
   "execution_count": 51,
   "id": "80ec5ed4",
   "metadata": {},
   "outputs": [
    {
     "data": {
      "text/html": [
       "<div>\n",
       "<style scoped>\n",
       "    .dataframe tbody tr th:only-of-type {\n",
       "        vertical-align: middle;\n",
       "    }\n",
       "\n",
       "    .dataframe tbody tr th {\n",
       "        vertical-align: top;\n",
       "    }\n",
       "\n",
       "    .dataframe thead th {\n",
       "        text-align: right;\n",
       "    }\n",
       "</style>\n",
       "<table border=\"1\" class=\"dataframe\">\n",
       "  <thead>\n",
       "    <tr style=\"text-align: right;\">\n",
       "      <th></th>\n",
       "      <th>age</th>\n",
       "      <th>credit_sum</th>\n",
       "      <th>credit_month</th>\n",
       "      <th>score_shk</th>\n",
       "      <th>monthly_income</th>\n",
       "      <th>credit_count</th>\n",
       "      <th>overdue_credit_count</th>\n",
       "      <th>tariff</th>\n",
       "      <th>gender_F</th>\n",
       "      <th>gender_M</th>\n",
       "      <th>marital_status_CIV</th>\n",
       "      <th>marital_status_DIV</th>\n",
       "      <th>marital_status_MAR</th>\n",
       "      <th>marital_status_UNM</th>\n",
       "      <th>marital_status_WID</th>\n",
       "      <th>job_position_ATP</th>\n",
       "      <th>job_position_BIS</th>\n",
       "      <th>job_position_BIU</th>\n",
       "      <th>job_position_DIR</th>\n",
       "      <th>job_position_INP</th>\n",
       "      <th>job_position_NOR</th>\n",
       "      <th>job_position_OTHER</th>\n",
       "      <th>job_position_PNA</th>\n",
       "      <th>job_position_PNI</th>\n",
       "      <th>job_position_SPC</th>\n",
       "      <th>job_position_UMN</th>\n",
       "      <th>job_position_WOI</th>\n",
       "      <th>job_position_WRK</th>\n",
       "      <th>job_position_WRP</th>\n",
       "      <th>tariff_id_1_0</th>\n",
       "      <th>tariff_id_1_1</th>\n",
       "      <th>tariff_id_1_16</th>\n",
       "      <th>tariff_id_1_17</th>\n",
       "      <th>tariff_id_1_19</th>\n",
       "      <th>tariff_id_1_2</th>\n",
       "      <th>tariff_id_1_21</th>\n",
       "      <th>tariff_id_1_22</th>\n",
       "      <th>tariff_id_1_23</th>\n",
       "      <th>tariff_id_1_24</th>\n",
       "      <th>tariff_id_1_25</th>\n",
       "      <th>tariff_id_1_3</th>\n",
       "      <th>tariff_id_1_32</th>\n",
       "      <th>tariff_id_1_4</th>\n",
       "      <th>tariff_id_1_41</th>\n",
       "      <th>tariff_id_1_43</th>\n",
       "      <th>tariff_id_1_44</th>\n",
       "      <th>tariff_id_1_5</th>\n",
       "      <th>tariff_id_1_6</th>\n",
       "      <th>tariff_id_1_7</th>\n",
       "      <th>tariff_id_1_9</th>\n",
       "      <th>tariff_id_1_91</th>\n",
       "      <th>tariff_id_1_94</th>\n",
       "      <th>tariff_id_1_99</th>\n",
       "      <th>education_ACD</th>\n",
       "      <th>education_GRD</th>\n",
       "      <th>education_PGR</th>\n",
       "      <th>education_SCH</th>\n",
       "      <th>education_UGR</th>\n",
       "      <th>open_account_flg_0</th>\n",
       "      <th>open_account_flg_1</th>\n",
       "    </tr>\n",
       "  </thead>\n",
       "  <tbody>\n",
       "    <tr>\n",
       "      <th>0</th>\n",
       "      <td>34.0</td>\n",
       "      <td>59998.00</td>\n",
       "      <td>10</td>\n",
       "      <td>0.461599</td>\n",
       "      <td>30000.0</td>\n",
       "      <td>1.0</td>\n",
       "      <td>1.0</td>\n",
       "      <td>1.6</td>\n",
       "      <td>0</td>\n",
       "      <td>1</td>\n",
       "      <td>0</td>\n",
       "      <td>0</td>\n",
       "      <td>1</td>\n",
       "      <td>0</td>\n",
       "      <td>0</td>\n",
       "      <td>0</td>\n",
       "      <td>0</td>\n",
       "      <td>0</td>\n",
       "      <td>0</td>\n",
       "      <td>0</td>\n",
       "      <td>0</td>\n",
       "      <td>0</td>\n",
       "      <td>0</td>\n",
       "      <td>0</td>\n",
       "      <td>0</td>\n",
       "      <td>1</td>\n",
       "      <td>0</td>\n",
       "      <td>0</td>\n",
       "      <td>0</td>\n",
       "      <td>0</td>\n",
       "      <td>0</td>\n",
       "      <td>0</td>\n",
       "      <td>0</td>\n",
       "      <td>0</td>\n",
       "      <td>0</td>\n",
       "      <td>0</td>\n",
       "      <td>0</td>\n",
       "      <td>0</td>\n",
       "      <td>0</td>\n",
       "      <td>0</td>\n",
       "      <td>0</td>\n",
       "      <td>0</td>\n",
       "      <td>0</td>\n",
       "      <td>0</td>\n",
       "      <td>0</td>\n",
       "      <td>0</td>\n",
       "      <td>0</td>\n",
       "      <td>1</td>\n",
       "      <td>0</td>\n",
       "      <td>0</td>\n",
       "      <td>0</td>\n",
       "      <td>0</td>\n",
       "      <td>0</td>\n",
       "      <td>0</td>\n",
       "      <td>1</td>\n",
       "      <td>0</td>\n",
       "      <td>0</td>\n",
       "      <td>0</td>\n",
       "      <td>1</td>\n",
       "      <td>0</td>\n",
       "    </tr>\n",
       "    <tr>\n",
       "      <th>1</th>\n",
       "      <td>34.0</td>\n",
       "      <td>10889.00</td>\n",
       "      <td>6</td>\n",
       "      <td>0.461599</td>\n",
       "      <td>35000.0</td>\n",
       "      <td>2.0</td>\n",
       "      <td>0.0</td>\n",
       "      <td>1.1</td>\n",
       "      <td>1</td>\n",
       "      <td>0</td>\n",
       "      <td>0</td>\n",
       "      <td>0</td>\n",
       "      <td>1</td>\n",
       "      <td>0</td>\n",
       "      <td>0</td>\n",
       "      <td>0</td>\n",
       "      <td>0</td>\n",
       "      <td>0</td>\n",
       "      <td>0</td>\n",
       "      <td>0</td>\n",
       "      <td>0</td>\n",
       "      <td>0</td>\n",
       "      <td>0</td>\n",
       "      <td>0</td>\n",
       "      <td>0</td>\n",
       "      <td>1</td>\n",
       "      <td>0</td>\n",
       "      <td>0</td>\n",
       "      <td>0</td>\n",
       "      <td>0</td>\n",
       "      <td>1</td>\n",
       "      <td>0</td>\n",
       "      <td>0</td>\n",
       "      <td>0</td>\n",
       "      <td>0</td>\n",
       "      <td>0</td>\n",
       "      <td>0</td>\n",
       "      <td>0</td>\n",
       "      <td>0</td>\n",
       "      <td>0</td>\n",
       "      <td>0</td>\n",
       "      <td>0</td>\n",
       "      <td>0</td>\n",
       "      <td>0</td>\n",
       "      <td>0</td>\n",
       "      <td>0</td>\n",
       "      <td>0</td>\n",
       "      <td>0</td>\n",
       "      <td>0</td>\n",
       "      <td>0</td>\n",
       "      <td>0</td>\n",
       "      <td>0</td>\n",
       "      <td>0</td>\n",
       "      <td>0</td>\n",
       "      <td>0</td>\n",
       "      <td>0</td>\n",
       "      <td>1</td>\n",
       "      <td>0</td>\n",
       "      <td>1</td>\n",
       "      <td>0</td>\n",
       "    </tr>\n",
       "    <tr>\n",
       "      <th>2</th>\n",
       "      <td>32.0</td>\n",
       "      <td>10728.00</td>\n",
       "      <td>12</td>\n",
       "      <td>0.461599</td>\n",
       "      <td>35000.0</td>\n",
       "      <td>5.0</td>\n",
       "      <td>0.0</td>\n",
       "      <td>1.1</td>\n",
       "      <td>0</td>\n",
       "      <td>1</td>\n",
       "      <td>0</td>\n",
       "      <td>0</td>\n",
       "      <td>1</td>\n",
       "      <td>0</td>\n",
       "      <td>0</td>\n",
       "      <td>0</td>\n",
       "      <td>0</td>\n",
       "      <td>0</td>\n",
       "      <td>0</td>\n",
       "      <td>0</td>\n",
       "      <td>0</td>\n",
       "      <td>0</td>\n",
       "      <td>0</td>\n",
       "      <td>0</td>\n",
       "      <td>1</td>\n",
       "      <td>0</td>\n",
       "      <td>0</td>\n",
       "      <td>0</td>\n",
       "      <td>0</td>\n",
       "      <td>0</td>\n",
       "      <td>1</td>\n",
       "      <td>0</td>\n",
       "      <td>0</td>\n",
       "      <td>0</td>\n",
       "      <td>0</td>\n",
       "      <td>0</td>\n",
       "      <td>0</td>\n",
       "      <td>0</td>\n",
       "      <td>0</td>\n",
       "      <td>0</td>\n",
       "      <td>0</td>\n",
       "      <td>0</td>\n",
       "      <td>0</td>\n",
       "      <td>0</td>\n",
       "      <td>0</td>\n",
       "      <td>0</td>\n",
       "      <td>0</td>\n",
       "      <td>0</td>\n",
       "      <td>0</td>\n",
       "      <td>0</td>\n",
       "      <td>0</td>\n",
       "      <td>0</td>\n",
       "      <td>0</td>\n",
       "      <td>0</td>\n",
       "      <td>0</td>\n",
       "      <td>0</td>\n",
       "      <td>1</td>\n",
       "      <td>0</td>\n",
       "      <td>1</td>\n",
       "      <td>0</td>\n",
       "    </tr>\n",
       "    <tr>\n",
       "      <th>3</th>\n",
       "      <td>27.0</td>\n",
       "      <td>12009.09</td>\n",
       "      <td>12</td>\n",
       "      <td>0.461599</td>\n",
       "      <td>35000.0</td>\n",
       "      <td>2.0</td>\n",
       "      <td>0.0</td>\n",
       "      <td>1.1</td>\n",
       "      <td>1</td>\n",
       "      <td>0</td>\n",
       "      <td>0</td>\n",
       "      <td>0</td>\n",
       "      <td>1</td>\n",
       "      <td>0</td>\n",
       "      <td>0</td>\n",
       "      <td>0</td>\n",
       "      <td>0</td>\n",
       "      <td>0</td>\n",
       "      <td>0</td>\n",
       "      <td>0</td>\n",
       "      <td>0</td>\n",
       "      <td>0</td>\n",
       "      <td>0</td>\n",
       "      <td>0</td>\n",
       "      <td>1</td>\n",
       "      <td>0</td>\n",
       "      <td>0</td>\n",
       "      <td>0</td>\n",
       "      <td>0</td>\n",
       "      <td>0</td>\n",
       "      <td>1</td>\n",
       "      <td>0</td>\n",
       "      <td>0</td>\n",
       "      <td>0</td>\n",
       "      <td>0</td>\n",
       "      <td>0</td>\n",
       "      <td>0</td>\n",
       "      <td>0</td>\n",
       "      <td>0</td>\n",
       "      <td>0</td>\n",
       "      <td>0</td>\n",
       "      <td>0</td>\n",
       "      <td>0</td>\n",
       "      <td>0</td>\n",
       "      <td>0</td>\n",
       "      <td>0</td>\n",
       "      <td>0</td>\n",
       "      <td>0</td>\n",
       "      <td>0</td>\n",
       "      <td>0</td>\n",
       "      <td>0</td>\n",
       "      <td>0</td>\n",
       "      <td>0</td>\n",
       "      <td>0</td>\n",
       "      <td>0</td>\n",
       "      <td>0</td>\n",
       "      <td>1</td>\n",
       "      <td>0</td>\n",
       "      <td>1</td>\n",
       "      <td>0</td>\n",
       "    </tr>\n",
       "    <tr>\n",
       "      <th>4</th>\n",
       "      <td>45.0</td>\n",
       "      <td>21229.00</td>\n",
       "      <td>10</td>\n",
       "      <td>0.421385</td>\n",
       "      <td>35000.0</td>\n",
       "      <td>1.0</td>\n",
       "      <td>0.0</td>\n",
       "      <td>1.1</td>\n",
       "      <td>0</td>\n",
       "      <td>1</td>\n",
       "      <td>0</td>\n",
       "      <td>0</td>\n",
       "      <td>1</td>\n",
       "      <td>0</td>\n",
       "      <td>0</td>\n",
       "      <td>0</td>\n",
       "      <td>0</td>\n",
       "      <td>0</td>\n",
       "      <td>0</td>\n",
       "      <td>0</td>\n",
       "      <td>0</td>\n",
       "      <td>0</td>\n",
       "      <td>0</td>\n",
       "      <td>0</td>\n",
       "      <td>1</td>\n",
       "      <td>0</td>\n",
       "      <td>0</td>\n",
       "      <td>0</td>\n",
       "      <td>0</td>\n",
       "      <td>0</td>\n",
       "      <td>1</td>\n",
       "      <td>0</td>\n",
       "      <td>0</td>\n",
       "      <td>0</td>\n",
       "      <td>0</td>\n",
       "      <td>0</td>\n",
       "      <td>0</td>\n",
       "      <td>0</td>\n",
       "      <td>0</td>\n",
       "      <td>0</td>\n",
       "      <td>0</td>\n",
       "      <td>0</td>\n",
       "      <td>0</td>\n",
       "      <td>0</td>\n",
       "      <td>0</td>\n",
       "      <td>0</td>\n",
       "      <td>0</td>\n",
       "      <td>0</td>\n",
       "      <td>0</td>\n",
       "      <td>0</td>\n",
       "      <td>0</td>\n",
       "      <td>0</td>\n",
       "      <td>0</td>\n",
       "      <td>0</td>\n",
       "      <td>0</td>\n",
       "      <td>0</td>\n",
       "      <td>1</td>\n",
       "      <td>0</td>\n",
       "      <td>1</td>\n",
       "      <td>0</td>\n",
       "    </tr>\n",
       "  </tbody>\n",
       "</table>\n",
       "</div>"
      ],
      "text/plain": [
       "    age  credit_sum  credit_month  score_shk  monthly_income  credit_count  \\\n",
       "0  34.0    59998.00            10   0.461599         30000.0           1.0   \n",
       "1  34.0    10889.00             6   0.461599         35000.0           2.0   \n",
       "2  32.0    10728.00            12   0.461599         35000.0           5.0   \n",
       "3  27.0    12009.09            12   0.461599         35000.0           2.0   \n",
       "4  45.0    21229.00            10   0.421385         35000.0           1.0   \n",
       "\n",
       "   overdue_credit_count  tariff  gender_F  gender_M  marital_status_CIV  \\\n",
       "0                   1.0     1.6         0         1                   0   \n",
       "1                   0.0     1.1         1         0                   0   \n",
       "2                   0.0     1.1         0         1                   0   \n",
       "3                   0.0     1.1         1         0                   0   \n",
       "4                   0.0     1.1         0         1                   0   \n",
       "\n",
       "   marital_status_DIV  marital_status_MAR  marital_status_UNM  \\\n",
       "0                   0                   1                   0   \n",
       "1                   0                   1                   0   \n",
       "2                   0                   1                   0   \n",
       "3                   0                   1                   0   \n",
       "4                   0                   1                   0   \n",
       "\n",
       "   marital_status_WID  job_position_ATP  job_position_BIS  job_position_BIU  \\\n",
       "0                   0                 0                 0                 0   \n",
       "1                   0                 0                 0                 0   \n",
       "2                   0                 0                 0                 0   \n",
       "3                   0                 0                 0                 0   \n",
       "4                   0                 0                 0                 0   \n",
       "\n",
       "   job_position_DIR  job_position_INP  job_position_NOR  job_position_OTHER  \\\n",
       "0                 0                 0                 0                   0   \n",
       "1                 0                 0                 0                   0   \n",
       "2                 0                 0                 0                   0   \n",
       "3                 0                 0                 0                   0   \n",
       "4                 0                 0                 0                   0   \n",
       "\n",
       "   job_position_PNA  job_position_PNI  job_position_SPC  job_position_UMN  \\\n",
       "0                 0                 0                 0                 1   \n",
       "1                 0                 0                 0                 1   \n",
       "2                 0                 0                 1                 0   \n",
       "3                 0                 0                 1                 0   \n",
       "4                 0                 0                 1                 0   \n",
       "\n",
       "   job_position_WOI  job_position_WRK  job_position_WRP  tariff_id_1_0  \\\n",
       "0                 0                 0                 0              0   \n",
       "1                 0                 0                 0              0   \n",
       "2                 0                 0                 0              0   \n",
       "3                 0                 0                 0              0   \n",
       "4                 0                 0                 0              0   \n",
       "\n",
       "   tariff_id_1_1  tariff_id_1_16  tariff_id_1_17  tariff_id_1_19  \\\n",
       "0              0               0               0               0   \n",
       "1              1               0               0               0   \n",
       "2              1               0               0               0   \n",
       "3              1               0               0               0   \n",
       "4              1               0               0               0   \n",
       "\n",
       "   tariff_id_1_2  tariff_id_1_21  tariff_id_1_22  tariff_id_1_23  \\\n",
       "0              0               0               0               0   \n",
       "1              0               0               0               0   \n",
       "2              0               0               0               0   \n",
       "3              0               0               0               0   \n",
       "4              0               0               0               0   \n",
       "\n",
       "   tariff_id_1_24  tariff_id_1_25  tariff_id_1_3  tariff_id_1_32  \\\n",
       "0               0               0              0               0   \n",
       "1               0               0              0               0   \n",
       "2               0               0              0               0   \n",
       "3               0               0              0               0   \n",
       "4               0               0              0               0   \n",
       "\n",
       "   tariff_id_1_4  tariff_id_1_41  tariff_id_1_43  tariff_id_1_44  \\\n",
       "0              0               0               0               0   \n",
       "1              0               0               0               0   \n",
       "2              0               0               0               0   \n",
       "3              0               0               0               0   \n",
       "4              0               0               0               0   \n",
       "\n",
       "   tariff_id_1_5  tariff_id_1_6  tariff_id_1_7  tariff_id_1_9  tariff_id_1_91  \\\n",
       "0              0              1              0              0               0   \n",
       "1              0              0              0              0               0   \n",
       "2              0              0              0              0               0   \n",
       "3              0              0              0              0               0   \n",
       "4              0              0              0              0               0   \n",
       "\n",
       "   tariff_id_1_94  tariff_id_1_99  education_ACD  education_GRD  \\\n",
       "0               0               0              0              1   \n",
       "1               0               0              0              0   \n",
       "2               0               0              0              0   \n",
       "3               0               0              0              0   \n",
       "4               0               0              0              0   \n",
       "\n",
       "   education_PGR  education_SCH  education_UGR  open_account_flg_0  \\\n",
       "0              0              0              0                   1   \n",
       "1              0              1              0                   1   \n",
       "2              0              1              0                   1   \n",
       "3              0              1              0                   1   \n",
       "4              0              1              0                   1   \n",
       "\n",
       "   open_account_flg_1  \n",
       "0                   0  \n",
       "1                   0  \n",
       "2                   0  \n",
       "3                   0  \n",
       "4                   0  "
      ]
     },
     "execution_count": 51,
     "metadata": {},
     "output_type": "execute_result"
    }
   ],
   "source": [
    "#увеличим количество выводимых столбцов\n",
    "pd.set_option('display.max_columns', 100)\n",
    "data_raw_dummies.head()"
   ]
  },
  {
   "cell_type": "markdown",
   "id": "63224e87",
   "metadata": {},
   "source": [
    "Видно, что количественные переменные остались без изменнений (они приводятся первыми), а категориальные переменные были преобразованы в количественные. Заметим, что категориальная переменная `'open_account_flg'` теперь представлена двумя количественными переменными `'open_account_flg_0'` и `'open_account_flg_1'`."
   ]
  },
  {
   "cell_type": "markdown",
   "id": "cf6fcc74",
   "metadata": {},
   "source": [
    "## 7. Нормализация"
   ]
  },
  {
   "cell_type": "markdown",
   "id": "629e1a10",
   "metadata": {},
   "source": [
    "Нормализация числовых признаков выполняется путем линейного преобразования диапазона каждого из значений к отрезку [0;1]."
   ]
  },
  {
   "cell_type": "code",
   "execution_count": 52,
   "id": "b472608a",
   "metadata": {},
   "outputs": [],
   "source": [
    "data_raw_dummies = (data_raw_dummies - data_raw_dummies.min(axis=0)) / (data_raw_dummies.max(axis=0) - data_raw_dummies.min(axis=0))"
   ]
  },
  {
   "cell_type": "code",
   "execution_count": 53,
   "id": "77b0e226",
   "metadata": {},
   "outputs": [
    {
     "data": {
      "text/html": [
       "<div>\n",
       "<style scoped>\n",
       "    .dataframe tbody tr th:only-of-type {\n",
       "        vertical-align: middle;\n",
       "    }\n",
       "\n",
       "    .dataframe tbody tr th {\n",
       "        vertical-align: top;\n",
       "    }\n",
       "\n",
       "    .dataframe thead th {\n",
       "        text-align: right;\n",
       "    }\n",
       "</style>\n",
       "<table border=\"1\" class=\"dataframe\">\n",
       "  <thead>\n",
       "    <tr style=\"text-align: right;\">\n",
       "      <th></th>\n",
       "      <th>age</th>\n",
       "      <th>credit_sum</th>\n",
       "      <th>credit_month</th>\n",
       "      <th>score_shk</th>\n",
       "      <th>monthly_income</th>\n",
       "      <th>credit_count</th>\n",
       "      <th>overdue_credit_count</th>\n",
       "      <th>tariff</th>\n",
       "      <th>gender_F</th>\n",
       "      <th>gender_M</th>\n",
       "      <th>marital_status_CIV</th>\n",
       "      <th>marital_status_DIV</th>\n",
       "      <th>marital_status_MAR</th>\n",
       "      <th>marital_status_UNM</th>\n",
       "      <th>marital_status_WID</th>\n",
       "      <th>job_position_ATP</th>\n",
       "      <th>job_position_BIS</th>\n",
       "      <th>job_position_BIU</th>\n",
       "      <th>job_position_DIR</th>\n",
       "      <th>job_position_INP</th>\n",
       "      <th>job_position_NOR</th>\n",
       "      <th>job_position_OTHER</th>\n",
       "      <th>job_position_PNA</th>\n",
       "      <th>job_position_PNI</th>\n",
       "      <th>job_position_SPC</th>\n",
       "      <th>job_position_UMN</th>\n",
       "      <th>job_position_WOI</th>\n",
       "      <th>job_position_WRK</th>\n",
       "      <th>job_position_WRP</th>\n",
       "      <th>tariff_id_1_0</th>\n",
       "      <th>tariff_id_1_1</th>\n",
       "      <th>tariff_id_1_16</th>\n",
       "      <th>tariff_id_1_17</th>\n",
       "      <th>tariff_id_1_19</th>\n",
       "      <th>tariff_id_1_2</th>\n",
       "      <th>tariff_id_1_21</th>\n",
       "      <th>tariff_id_1_22</th>\n",
       "      <th>tariff_id_1_23</th>\n",
       "      <th>tariff_id_1_24</th>\n",
       "      <th>tariff_id_1_25</th>\n",
       "      <th>tariff_id_1_3</th>\n",
       "      <th>tariff_id_1_32</th>\n",
       "      <th>tariff_id_1_4</th>\n",
       "      <th>tariff_id_1_41</th>\n",
       "      <th>tariff_id_1_43</th>\n",
       "      <th>tariff_id_1_44</th>\n",
       "      <th>tariff_id_1_5</th>\n",
       "      <th>tariff_id_1_6</th>\n",
       "      <th>tariff_id_1_7</th>\n",
       "      <th>tariff_id_1_9</th>\n",
       "      <th>tariff_id_1_91</th>\n",
       "      <th>tariff_id_1_94</th>\n",
       "      <th>tariff_id_1_99</th>\n",
       "      <th>education_ACD</th>\n",
       "      <th>education_GRD</th>\n",
       "      <th>education_PGR</th>\n",
       "      <th>education_SCH</th>\n",
       "      <th>education_UGR</th>\n",
       "      <th>open_account_flg_0</th>\n",
       "      <th>open_account_flg_1</th>\n",
       "    </tr>\n",
       "  </thead>\n",
       "  <tbody>\n",
       "    <tr>\n",
       "      <th>count</th>\n",
       "      <td>170746.000000</td>\n",
       "      <td>170746.000000</td>\n",
       "      <td>170746.000000</td>\n",
       "      <td>170746.000000</td>\n",
       "      <td>170746.000000</td>\n",
       "      <td>170746.000000</td>\n",
       "      <td>170746.000000</td>\n",
       "      <td>170746.000000</td>\n",
       "      <td>170746.000000</td>\n",
       "      <td>170746.000000</td>\n",
       "      <td>170746.000000</td>\n",
       "      <td>170746.000000</td>\n",
       "      <td>170746.000000</td>\n",
       "      <td>170746.000000</td>\n",
       "      <td>170746.000000</td>\n",
       "      <td>170746.000000</td>\n",
       "      <td>170746.000000</td>\n",
       "      <td>170746.000000</td>\n",
       "      <td>170746.000000</td>\n",
       "      <td>170746.000000</td>\n",
       "      <td>170746.000000</td>\n",
       "      <td>170746.000000</td>\n",
       "      <td>170746.000000</td>\n",
       "      <td>170746.000000</td>\n",
       "      <td>170746.000000</td>\n",
       "      <td>170746.000000</td>\n",
       "      <td>170746.000000</td>\n",
       "      <td>170746.000000</td>\n",
       "      <td>170746.000000</td>\n",
       "      <td>170746.000000</td>\n",
       "      <td>170746.000000</td>\n",
       "      <td>170746.000000</td>\n",
       "      <td>170746.000000</td>\n",
       "      <td>170746.000000</td>\n",
       "      <td>170746.000000</td>\n",
       "      <td>170746.000000</td>\n",
       "      <td>170746.000000</td>\n",
       "      <td>170746.000000</td>\n",
       "      <td>170746.000000</td>\n",
       "      <td>170746.000000</td>\n",
       "      <td>170746.000000</td>\n",
       "      <td>170746.000000</td>\n",
       "      <td>170746.000000</td>\n",
       "      <td>170746.000000</td>\n",
       "      <td>170746.000000</td>\n",
       "      <td>170746.000000</td>\n",
       "      <td>170746.000000</td>\n",
       "      <td>170746.000000</td>\n",
       "      <td>170746.000000</td>\n",
       "      <td>170746.000000</td>\n",
       "      <td>170746.000000</td>\n",
       "      <td>170746.000000</td>\n",
       "      <td>170746.000000</td>\n",
       "      <td>170746.000000</td>\n",
       "      <td>170746.000000</td>\n",
       "      <td>170746.000000</td>\n",
       "      <td>170746.000000</td>\n",
       "      <td>170746.000000</td>\n",
       "      <td>170746.000000</td>\n",
       "      <td>170746.000000</td>\n",
       "    </tr>\n",
       "    <tr>\n",
       "      <th>mean</th>\n",
       "      <td>0.349004</td>\n",
       "      <td>0.118415</td>\n",
       "      <td>0.241841</td>\n",
       "      <td>0.416092</td>\n",
       "      <td>0.037184</td>\n",
       "      <td>0.133606</td>\n",
       "      <td>0.247381</td>\n",
       "      <td>0.327504</td>\n",
       "      <td>0.519468</td>\n",
       "      <td>0.480532</td>\n",
       "      <td>0.024575</td>\n",
       "      <td>0.099382</td>\n",
       "      <td>0.550274</td>\n",
       "      <td>0.305419</td>\n",
       "      <td>0.020352</td>\n",
       "      <td>0.016346</td>\n",
       "      <td>0.032745</td>\n",
       "      <td>0.000738</td>\n",
       "      <td>0.021962</td>\n",
       "      <td>0.001411</td>\n",
       "      <td>0.003145</td>\n",
       "      <td>0.000387</td>\n",
       "      <td>0.024053</td>\n",
       "      <td>0.000381</td>\n",
       "      <td>0.788774</td>\n",
       "      <td>0.103510</td>\n",
       "      <td>0.002062</td>\n",
       "      <td>0.003842</td>\n",
       "      <td>0.000644</td>\n",
       "      <td>0.013148</td>\n",
       "      <td>0.406188</td>\n",
       "      <td>0.018929</td>\n",
       "      <td>0.004199</td>\n",
       "      <td>0.012311</td>\n",
       "      <td>0.007649</td>\n",
       "      <td>0.003391</td>\n",
       "      <td>0.002202</td>\n",
       "      <td>0.002167</td>\n",
       "      <td>0.001775</td>\n",
       "      <td>0.000328</td>\n",
       "      <td>0.019555</td>\n",
       "      <td>0.090995</td>\n",
       "      <td>0.064247</td>\n",
       "      <td>0.000773</td>\n",
       "      <td>0.023017</td>\n",
       "      <td>0.013049</td>\n",
       "      <td>0.043907</td>\n",
       "      <td>0.229095</td>\n",
       "      <td>0.005898</td>\n",
       "      <td>0.032434</td>\n",
       "      <td>0.001857</td>\n",
       "      <td>0.002425</td>\n",
       "      <td>0.000463</td>\n",
       "      <td>0.000627</td>\n",
       "      <td>0.425140</td>\n",
       "      <td>0.003309</td>\n",
       "      <td>0.512703</td>\n",
       "      <td>0.058221</td>\n",
       "      <td>0.823972</td>\n",
       "      <td>0.176028</td>\n",
       "    </tr>\n",
       "    <tr>\n",
       "      <th>std</th>\n",
       "      <td>0.198980</td>\n",
       "      <td>0.082300</td>\n",
       "      <td>0.107173</td>\n",
       "      <td>0.110134</td>\n",
       "      <td>0.026502</td>\n",
       "      <td>0.084809</td>\n",
       "      <td>0.078377</td>\n",
       "      <td>0.238613</td>\n",
       "      <td>0.499622</td>\n",
       "      <td>0.499622</td>\n",
       "      <td>0.154825</td>\n",
       "      <td>0.299174</td>\n",
       "      <td>0.497468</td>\n",
       "      <td>0.460586</td>\n",
       "      <td>0.141201</td>\n",
       "      <td>0.126802</td>\n",
       "      <td>0.177968</td>\n",
       "      <td>0.027155</td>\n",
       "      <td>0.146561</td>\n",
       "      <td>0.037543</td>\n",
       "      <td>0.055992</td>\n",
       "      <td>0.019657</td>\n",
       "      <td>0.153215</td>\n",
       "      <td>0.019507</td>\n",
       "      <td>0.408180</td>\n",
       "      <td>0.304625</td>\n",
       "      <td>0.045358</td>\n",
       "      <td>0.061865</td>\n",
       "      <td>0.025374</td>\n",
       "      <td>0.113910</td>\n",
       "      <td>0.491122</td>\n",
       "      <td>0.136274</td>\n",
       "      <td>0.064665</td>\n",
       "      <td>0.110269</td>\n",
       "      <td>0.087122</td>\n",
       "      <td>0.058134</td>\n",
       "      <td>0.046875</td>\n",
       "      <td>0.046500</td>\n",
       "      <td>0.042088</td>\n",
       "      <td>0.018107</td>\n",
       "      <td>0.138467</td>\n",
       "      <td>0.287603</td>\n",
       "      <td>0.245194</td>\n",
       "      <td>0.027794</td>\n",
       "      <td>0.149957</td>\n",
       "      <td>0.113483</td>\n",
       "      <td>0.204890</td>\n",
       "      <td>0.420252</td>\n",
       "      <td>0.076570</td>\n",
       "      <td>0.177151</td>\n",
       "      <td>0.043048</td>\n",
       "      <td>0.049181</td>\n",
       "      <td>0.021505</td>\n",
       "      <td>0.025025</td>\n",
       "      <td>0.494366</td>\n",
       "      <td>0.057429</td>\n",
       "      <td>0.499840</td>\n",
       "      <td>0.234162</td>\n",
       "      <td>0.380845</td>\n",
       "      <td>0.380845</td>\n",
       "    </tr>\n",
       "    <tr>\n",
       "      <th>min</th>\n",
       "      <td>0.000000</td>\n",
       "      <td>0.000000</td>\n",
       "      <td>0.000000</td>\n",
       "      <td>0.000000</td>\n",
       "      <td>0.000000</td>\n",
       "      <td>0.000000</td>\n",
       "      <td>0.000000</td>\n",
       "      <td>0.000000</td>\n",
       "      <td>0.000000</td>\n",
       "      <td>0.000000</td>\n",
       "      <td>0.000000</td>\n",
       "      <td>0.000000</td>\n",
       "      <td>0.000000</td>\n",
       "      <td>0.000000</td>\n",
       "      <td>0.000000</td>\n",
       "      <td>0.000000</td>\n",
       "      <td>0.000000</td>\n",
       "      <td>0.000000</td>\n",
       "      <td>0.000000</td>\n",
       "      <td>0.000000</td>\n",
       "      <td>0.000000</td>\n",
       "      <td>0.000000</td>\n",
       "      <td>0.000000</td>\n",
       "      <td>0.000000</td>\n",
       "      <td>0.000000</td>\n",
       "      <td>0.000000</td>\n",
       "      <td>0.000000</td>\n",
       "      <td>0.000000</td>\n",
       "      <td>0.000000</td>\n",
       "      <td>0.000000</td>\n",
       "      <td>0.000000</td>\n",
       "      <td>0.000000</td>\n",
       "      <td>0.000000</td>\n",
       "      <td>0.000000</td>\n",
       "      <td>0.000000</td>\n",
       "      <td>0.000000</td>\n",
       "      <td>0.000000</td>\n",
       "      <td>0.000000</td>\n",
       "      <td>0.000000</td>\n",
       "      <td>0.000000</td>\n",
       "      <td>0.000000</td>\n",
       "      <td>0.000000</td>\n",
       "      <td>0.000000</td>\n",
       "      <td>0.000000</td>\n",
       "      <td>0.000000</td>\n",
       "      <td>0.000000</td>\n",
       "      <td>0.000000</td>\n",
       "      <td>0.000000</td>\n",
       "      <td>0.000000</td>\n",
       "      <td>0.000000</td>\n",
       "      <td>0.000000</td>\n",
       "      <td>0.000000</td>\n",
       "      <td>0.000000</td>\n",
       "      <td>0.000000</td>\n",
       "      <td>0.000000</td>\n",
       "      <td>0.000000</td>\n",
       "      <td>0.000000</td>\n",
       "      <td>0.000000</td>\n",
       "      <td>0.000000</td>\n",
       "      <td>0.000000</td>\n",
       "    </tr>\n",
       "    <tr>\n",
       "      <th>25%</th>\n",
       "      <td>0.188679</td>\n",
       "      <td>0.061704</td>\n",
       "      <td>0.212121</td>\n",
       "      <td>0.336393</td>\n",
       "      <td>0.021164</td>\n",
       "      <td>0.090909</td>\n",
       "      <td>0.250000</td>\n",
       "      <td>0.101010</td>\n",
       "      <td>0.000000</td>\n",
       "      <td>0.000000</td>\n",
       "      <td>0.000000</td>\n",
       "      <td>0.000000</td>\n",
       "      <td>0.000000</td>\n",
       "      <td>0.000000</td>\n",
       "      <td>0.000000</td>\n",
       "      <td>0.000000</td>\n",
       "      <td>0.000000</td>\n",
       "      <td>0.000000</td>\n",
       "      <td>0.000000</td>\n",
       "      <td>0.000000</td>\n",
       "      <td>0.000000</td>\n",
       "      <td>0.000000</td>\n",
       "      <td>0.000000</td>\n",
       "      <td>0.000000</td>\n",
       "      <td>1.000000</td>\n",
       "      <td>0.000000</td>\n",
       "      <td>0.000000</td>\n",
       "      <td>0.000000</td>\n",
       "      <td>0.000000</td>\n",
       "      <td>0.000000</td>\n",
       "      <td>0.000000</td>\n",
       "      <td>0.000000</td>\n",
       "      <td>0.000000</td>\n",
       "      <td>0.000000</td>\n",
       "      <td>0.000000</td>\n",
       "      <td>0.000000</td>\n",
       "      <td>0.000000</td>\n",
       "      <td>0.000000</td>\n",
       "      <td>0.000000</td>\n",
       "      <td>0.000000</td>\n",
       "      <td>0.000000</td>\n",
       "      <td>0.000000</td>\n",
       "      <td>0.000000</td>\n",
       "      <td>0.000000</td>\n",
       "      <td>0.000000</td>\n",
       "      <td>0.000000</td>\n",
       "      <td>0.000000</td>\n",
       "      <td>0.000000</td>\n",
       "      <td>0.000000</td>\n",
       "      <td>0.000000</td>\n",
       "      <td>0.000000</td>\n",
       "      <td>0.000000</td>\n",
       "      <td>0.000000</td>\n",
       "      <td>0.000000</td>\n",
       "      <td>0.000000</td>\n",
       "      <td>0.000000</td>\n",
       "      <td>0.000000</td>\n",
       "      <td>0.000000</td>\n",
       "      <td>1.000000</td>\n",
       "      <td>0.000000</td>\n",
       "    </tr>\n",
       "    <tr>\n",
       "      <th>50%</th>\n",
       "      <td>0.301887</td>\n",
       "      <td>0.093747</td>\n",
       "      <td>0.212121</td>\n",
       "      <td>0.409113</td>\n",
       "      <td>0.031746</td>\n",
       "      <td>0.136364</td>\n",
       "      <td>0.250000</td>\n",
       "      <td>0.323232</td>\n",
       "      <td>1.000000</td>\n",
       "      <td>0.000000</td>\n",
       "      <td>0.000000</td>\n",
       "      <td>0.000000</td>\n",
       "      <td>1.000000</td>\n",
       "      <td>0.000000</td>\n",
       "      <td>0.000000</td>\n",
       "      <td>0.000000</td>\n",
       "      <td>0.000000</td>\n",
       "      <td>0.000000</td>\n",
       "      <td>0.000000</td>\n",
       "      <td>0.000000</td>\n",
       "      <td>0.000000</td>\n",
       "      <td>0.000000</td>\n",
       "      <td>0.000000</td>\n",
       "      <td>0.000000</td>\n",
       "      <td>1.000000</td>\n",
       "      <td>0.000000</td>\n",
       "      <td>0.000000</td>\n",
       "      <td>0.000000</td>\n",
       "      <td>0.000000</td>\n",
       "      <td>0.000000</td>\n",
       "      <td>0.000000</td>\n",
       "      <td>0.000000</td>\n",
       "      <td>0.000000</td>\n",
       "      <td>0.000000</td>\n",
       "      <td>0.000000</td>\n",
       "      <td>0.000000</td>\n",
       "      <td>0.000000</td>\n",
       "      <td>0.000000</td>\n",
       "      <td>0.000000</td>\n",
       "      <td>0.000000</td>\n",
       "      <td>0.000000</td>\n",
       "      <td>0.000000</td>\n",
       "      <td>0.000000</td>\n",
       "      <td>0.000000</td>\n",
       "      <td>0.000000</td>\n",
       "      <td>0.000000</td>\n",
       "      <td>0.000000</td>\n",
       "      <td>0.000000</td>\n",
       "      <td>0.000000</td>\n",
       "      <td>0.000000</td>\n",
       "      <td>0.000000</td>\n",
       "      <td>0.000000</td>\n",
       "      <td>0.000000</td>\n",
       "      <td>0.000000</td>\n",
       "      <td>0.000000</td>\n",
       "      <td>0.000000</td>\n",
       "      <td>1.000000</td>\n",
       "      <td>0.000000</td>\n",
       "      <td>1.000000</td>\n",
       "      <td>0.000000</td>\n",
       "    </tr>\n",
       "    <tr>\n",
       "      <th>75%</th>\n",
       "      <td>0.471698</td>\n",
       "      <td>0.148694</td>\n",
       "      <td>0.272727</td>\n",
       "      <td>0.489586</td>\n",
       "      <td>0.047619</td>\n",
       "      <td>0.181818</td>\n",
       "      <td>0.250000</td>\n",
       "      <td>0.606061</td>\n",
       "      <td>1.000000</td>\n",
       "      <td>1.000000</td>\n",
       "      <td>0.000000</td>\n",
       "      <td>0.000000</td>\n",
       "      <td>1.000000</td>\n",
       "      <td>1.000000</td>\n",
       "      <td>0.000000</td>\n",
       "      <td>0.000000</td>\n",
       "      <td>0.000000</td>\n",
       "      <td>0.000000</td>\n",
       "      <td>0.000000</td>\n",
       "      <td>0.000000</td>\n",
       "      <td>0.000000</td>\n",
       "      <td>0.000000</td>\n",
       "      <td>0.000000</td>\n",
       "      <td>0.000000</td>\n",
       "      <td>1.000000</td>\n",
       "      <td>0.000000</td>\n",
       "      <td>0.000000</td>\n",
       "      <td>0.000000</td>\n",
       "      <td>0.000000</td>\n",
       "      <td>0.000000</td>\n",
       "      <td>1.000000</td>\n",
       "      <td>0.000000</td>\n",
       "      <td>0.000000</td>\n",
       "      <td>0.000000</td>\n",
       "      <td>0.000000</td>\n",
       "      <td>0.000000</td>\n",
       "      <td>0.000000</td>\n",
       "      <td>0.000000</td>\n",
       "      <td>0.000000</td>\n",
       "      <td>0.000000</td>\n",
       "      <td>0.000000</td>\n",
       "      <td>0.000000</td>\n",
       "      <td>0.000000</td>\n",
       "      <td>0.000000</td>\n",
       "      <td>0.000000</td>\n",
       "      <td>0.000000</td>\n",
       "      <td>0.000000</td>\n",
       "      <td>0.000000</td>\n",
       "      <td>0.000000</td>\n",
       "      <td>0.000000</td>\n",
       "      <td>0.000000</td>\n",
       "      <td>0.000000</td>\n",
       "      <td>0.000000</td>\n",
       "      <td>0.000000</td>\n",
       "      <td>1.000000</td>\n",
       "      <td>0.000000</td>\n",
       "      <td>1.000000</td>\n",
       "      <td>0.000000</td>\n",
       "      <td>1.000000</td>\n",
       "      <td>0.000000</td>\n",
       "    </tr>\n",
       "    <tr>\n",
       "      <th>max</th>\n",
       "      <td>1.000000</td>\n",
       "      <td>1.000000</td>\n",
       "      <td>1.000000</td>\n",
       "      <td>1.000000</td>\n",
       "      <td>1.000000</td>\n",
       "      <td>1.000000</td>\n",
       "      <td>1.000000</td>\n",
       "      <td>1.000000</td>\n",
       "      <td>1.000000</td>\n",
       "      <td>1.000000</td>\n",
       "      <td>1.000000</td>\n",
       "      <td>1.000000</td>\n",
       "      <td>1.000000</td>\n",
       "      <td>1.000000</td>\n",
       "      <td>1.000000</td>\n",
       "      <td>1.000000</td>\n",
       "      <td>1.000000</td>\n",
       "      <td>1.000000</td>\n",
       "      <td>1.000000</td>\n",
       "      <td>1.000000</td>\n",
       "      <td>1.000000</td>\n",
       "      <td>1.000000</td>\n",
       "      <td>1.000000</td>\n",
       "      <td>1.000000</td>\n",
       "      <td>1.000000</td>\n",
       "      <td>1.000000</td>\n",
       "      <td>1.000000</td>\n",
       "      <td>1.000000</td>\n",
       "      <td>1.000000</td>\n",
       "      <td>1.000000</td>\n",
       "      <td>1.000000</td>\n",
       "      <td>1.000000</td>\n",
       "      <td>1.000000</td>\n",
       "      <td>1.000000</td>\n",
       "      <td>1.000000</td>\n",
       "      <td>1.000000</td>\n",
       "      <td>1.000000</td>\n",
       "      <td>1.000000</td>\n",
       "      <td>1.000000</td>\n",
       "      <td>1.000000</td>\n",
       "      <td>1.000000</td>\n",
       "      <td>1.000000</td>\n",
       "      <td>1.000000</td>\n",
       "      <td>1.000000</td>\n",
       "      <td>1.000000</td>\n",
       "      <td>1.000000</td>\n",
       "      <td>1.000000</td>\n",
       "      <td>1.000000</td>\n",
       "      <td>1.000000</td>\n",
       "      <td>1.000000</td>\n",
       "      <td>1.000000</td>\n",
       "      <td>1.000000</td>\n",
       "      <td>1.000000</td>\n",
       "      <td>1.000000</td>\n",
       "      <td>1.000000</td>\n",
       "      <td>1.000000</td>\n",
       "      <td>1.000000</td>\n",
       "      <td>1.000000</td>\n",
       "      <td>1.000000</td>\n",
       "      <td>1.000000</td>\n",
       "    </tr>\n",
       "  </tbody>\n",
       "</table>\n",
       "</div>"
      ],
      "text/plain": [
       "                 age     credit_sum   credit_month      score_shk  \\\n",
       "count  170746.000000  170746.000000  170746.000000  170746.000000   \n",
       "mean        0.349004       0.118415       0.241841       0.416092   \n",
       "std         0.198980       0.082300       0.107173       0.110134   \n",
       "min         0.000000       0.000000       0.000000       0.000000   \n",
       "25%         0.188679       0.061704       0.212121       0.336393   \n",
       "50%         0.301887       0.093747       0.212121       0.409113   \n",
       "75%         0.471698       0.148694       0.272727       0.489586   \n",
       "max         1.000000       1.000000       1.000000       1.000000   \n",
       "\n",
       "       monthly_income   credit_count  overdue_credit_count         tariff  \\\n",
       "count   170746.000000  170746.000000         170746.000000  170746.000000   \n",
       "mean         0.037184       0.133606              0.247381       0.327504   \n",
       "std          0.026502       0.084809              0.078377       0.238613   \n",
       "min          0.000000       0.000000              0.000000       0.000000   \n",
       "25%          0.021164       0.090909              0.250000       0.101010   \n",
       "50%          0.031746       0.136364              0.250000       0.323232   \n",
       "75%          0.047619       0.181818              0.250000       0.606061   \n",
       "max          1.000000       1.000000              1.000000       1.000000   \n",
       "\n",
       "            gender_F       gender_M  marital_status_CIV  marital_status_DIV  \\\n",
       "count  170746.000000  170746.000000       170746.000000       170746.000000   \n",
       "mean        0.519468       0.480532            0.024575            0.099382   \n",
       "std         0.499622       0.499622            0.154825            0.299174   \n",
       "min         0.000000       0.000000            0.000000            0.000000   \n",
       "25%         0.000000       0.000000            0.000000            0.000000   \n",
       "50%         1.000000       0.000000            0.000000            0.000000   \n",
       "75%         1.000000       1.000000            0.000000            0.000000   \n",
       "max         1.000000       1.000000            1.000000            1.000000   \n",
       "\n",
       "       marital_status_MAR  marital_status_UNM  marital_status_WID  \\\n",
       "count       170746.000000       170746.000000       170746.000000   \n",
       "mean             0.550274            0.305419            0.020352   \n",
       "std              0.497468            0.460586            0.141201   \n",
       "min              0.000000            0.000000            0.000000   \n",
       "25%              0.000000            0.000000            0.000000   \n",
       "50%              1.000000            0.000000            0.000000   \n",
       "75%              1.000000            1.000000            0.000000   \n",
       "max              1.000000            1.000000            1.000000   \n",
       "\n",
       "       job_position_ATP  job_position_BIS  job_position_BIU  job_position_DIR  \\\n",
       "count     170746.000000     170746.000000     170746.000000     170746.000000   \n",
       "mean           0.016346          0.032745          0.000738          0.021962   \n",
       "std            0.126802          0.177968          0.027155          0.146561   \n",
       "min            0.000000          0.000000          0.000000          0.000000   \n",
       "25%            0.000000          0.000000          0.000000          0.000000   \n",
       "50%            0.000000          0.000000          0.000000          0.000000   \n",
       "75%            0.000000          0.000000          0.000000          0.000000   \n",
       "max            1.000000          1.000000          1.000000          1.000000   \n",
       "\n",
       "       job_position_INP  job_position_NOR  job_position_OTHER  \\\n",
       "count     170746.000000     170746.000000       170746.000000   \n",
       "mean           0.001411          0.003145            0.000387   \n",
       "std            0.037543          0.055992            0.019657   \n",
       "min            0.000000          0.000000            0.000000   \n",
       "25%            0.000000          0.000000            0.000000   \n",
       "50%            0.000000          0.000000            0.000000   \n",
       "75%            0.000000          0.000000            0.000000   \n",
       "max            1.000000          1.000000            1.000000   \n",
       "\n",
       "       job_position_PNA  job_position_PNI  job_position_SPC  job_position_UMN  \\\n",
       "count     170746.000000     170746.000000     170746.000000     170746.000000   \n",
       "mean           0.024053          0.000381          0.788774          0.103510   \n",
       "std            0.153215          0.019507          0.408180          0.304625   \n",
       "min            0.000000          0.000000          0.000000          0.000000   \n",
       "25%            0.000000          0.000000          1.000000          0.000000   \n",
       "50%            0.000000          0.000000          1.000000          0.000000   \n",
       "75%            0.000000          0.000000          1.000000          0.000000   \n",
       "max            1.000000          1.000000          1.000000          1.000000   \n",
       "\n",
       "       job_position_WOI  job_position_WRK  job_position_WRP  tariff_id_1_0  \\\n",
       "count     170746.000000     170746.000000     170746.000000  170746.000000   \n",
       "mean           0.002062          0.003842          0.000644       0.013148   \n",
       "std            0.045358          0.061865          0.025374       0.113910   \n",
       "min            0.000000          0.000000          0.000000       0.000000   \n",
       "25%            0.000000          0.000000          0.000000       0.000000   \n",
       "50%            0.000000          0.000000          0.000000       0.000000   \n",
       "75%            0.000000          0.000000          0.000000       0.000000   \n",
       "max            1.000000          1.000000          1.000000       1.000000   \n",
       "\n",
       "       tariff_id_1_1  tariff_id_1_16  tariff_id_1_17  tariff_id_1_19  \\\n",
       "count  170746.000000   170746.000000   170746.000000   170746.000000   \n",
       "mean        0.406188        0.018929        0.004199        0.012311   \n",
       "std         0.491122        0.136274        0.064665        0.110269   \n",
       "min         0.000000        0.000000        0.000000        0.000000   \n",
       "25%         0.000000        0.000000        0.000000        0.000000   \n",
       "50%         0.000000        0.000000        0.000000        0.000000   \n",
       "75%         1.000000        0.000000        0.000000        0.000000   \n",
       "max         1.000000        1.000000        1.000000        1.000000   \n",
       "\n",
       "       tariff_id_1_2  tariff_id_1_21  tariff_id_1_22  tariff_id_1_23  \\\n",
       "count  170746.000000   170746.000000   170746.000000   170746.000000   \n",
       "mean        0.007649        0.003391        0.002202        0.002167   \n",
       "std         0.087122        0.058134        0.046875        0.046500   \n",
       "min         0.000000        0.000000        0.000000        0.000000   \n",
       "25%         0.000000        0.000000        0.000000        0.000000   \n",
       "50%         0.000000        0.000000        0.000000        0.000000   \n",
       "75%         0.000000        0.000000        0.000000        0.000000   \n",
       "max         1.000000        1.000000        1.000000        1.000000   \n",
       "\n",
       "       tariff_id_1_24  tariff_id_1_25  tariff_id_1_3  tariff_id_1_32  \\\n",
       "count   170746.000000   170746.000000  170746.000000   170746.000000   \n",
       "mean         0.001775        0.000328       0.019555        0.090995   \n",
       "std          0.042088        0.018107       0.138467        0.287603   \n",
       "min          0.000000        0.000000       0.000000        0.000000   \n",
       "25%          0.000000        0.000000       0.000000        0.000000   \n",
       "50%          0.000000        0.000000       0.000000        0.000000   \n",
       "75%          0.000000        0.000000       0.000000        0.000000   \n",
       "max          1.000000        1.000000       1.000000        1.000000   \n",
       "\n",
       "       tariff_id_1_4  tariff_id_1_41  tariff_id_1_43  tariff_id_1_44  \\\n",
       "count  170746.000000   170746.000000   170746.000000   170746.000000   \n",
       "mean        0.064247        0.000773        0.023017        0.013049   \n",
       "std         0.245194        0.027794        0.149957        0.113483   \n",
       "min         0.000000        0.000000        0.000000        0.000000   \n",
       "25%         0.000000        0.000000        0.000000        0.000000   \n",
       "50%         0.000000        0.000000        0.000000        0.000000   \n",
       "75%         0.000000        0.000000        0.000000        0.000000   \n",
       "max         1.000000        1.000000        1.000000        1.000000   \n",
       "\n",
       "       tariff_id_1_5  tariff_id_1_6  tariff_id_1_7  tariff_id_1_9  \\\n",
       "count  170746.000000  170746.000000  170746.000000  170746.000000   \n",
       "mean        0.043907       0.229095       0.005898       0.032434   \n",
       "std         0.204890       0.420252       0.076570       0.177151   \n",
       "min         0.000000       0.000000       0.000000       0.000000   \n",
       "25%         0.000000       0.000000       0.000000       0.000000   \n",
       "50%         0.000000       0.000000       0.000000       0.000000   \n",
       "75%         0.000000       0.000000       0.000000       0.000000   \n",
       "max         1.000000       1.000000       1.000000       1.000000   \n",
       "\n",
       "       tariff_id_1_91  tariff_id_1_94  tariff_id_1_99  education_ACD  \\\n",
       "count   170746.000000   170746.000000   170746.000000  170746.000000   \n",
       "mean         0.001857        0.002425        0.000463       0.000627   \n",
       "std          0.043048        0.049181        0.021505       0.025025   \n",
       "min          0.000000        0.000000        0.000000       0.000000   \n",
       "25%          0.000000        0.000000        0.000000       0.000000   \n",
       "50%          0.000000        0.000000        0.000000       0.000000   \n",
       "75%          0.000000        0.000000        0.000000       0.000000   \n",
       "max          1.000000        1.000000        1.000000       1.000000   \n",
       "\n",
       "       education_GRD  education_PGR  education_SCH  education_UGR  \\\n",
       "count  170746.000000  170746.000000  170746.000000  170746.000000   \n",
       "mean        0.425140       0.003309       0.512703       0.058221   \n",
       "std         0.494366       0.057429       0.499840       0.234162   \n",
       "min         0.000000       0.000000       0.000000       0.000000   \n",
       "25%         0.000000       0.000000       0.000000       0.000000   \n",
       "50%         0.000000       0.000000       1.000000       0.000000   \n",
       "75%         1.000000       0.000000       1.000000       0.000000   \n",
       "max         1.000000       1.000000       1.000000       1.000000   \n",
       "\n",
       "       open_account_flg_0  open_account_flg_1  \n",
       "count       170746.000000       170746.000000  \n",
       "mean             0.823972            0.176028  \n",
       "std              0.380845            0.380845  \n",
       "min              0.000000            0.000000  \n",
       "25%              1.000000            0.000000  \n",
       "50%              1.000000            0.000000  \n",
       "75%              1.000000            0.000000  \n",
       "max              1.000000            1.000000  "
      ]
     },
     "execution_count": 53,
     "metadata": {},
     "output_type": "execute_result"
    }
   ],
   "source": [
    "data_raw_dummies.describe()"
   ]
  },
  {
   "cell_type": "markdown",
   "id": "a74d2051",
   "metadata": {},
   "source": [
    "## 8. Разбиваем данные на обучающую и тестовую выборки"
   ]
  },
  {
   "cell_type": "code",
   "execution_count": 54,
   "id": "32601f9c",
   "metadata": {},
   "outputs": [
    {
     "data": {
      "text/plain": [
       "Index(['age', 'credit_sum', 'credit_month', 'score_shk', 'monthly_income',\n",
       "       'credit_count', 'overdue_credit_count', 'tariff', 'gender_F',\n",
       "       'gender_M', 'marital_status_CIV', 'marital_status_DIV',\n",
       "       'marital_status_MAR', 'marital_status_UNM', 'marital_status_WID',\n",
       "       'job_position_ATP', 'job_position_BIS', 'job_position_BIU',\n",
       "       'job_position_DIR', 'job_position_INP', 'job_position_NOR',\n",
       "       'job_position_OTHER', 'job_position_PNA', 'job_position_PNI',\n",
       "       'job_position_SPC', 'job_position_UMN', 'job_position_WOI',\n",
       "       'job_position_WRK', 'job_position_WRP', 'tariff_id_1_0',\n",
       "       'tariff_id_1_1', 'tariff_id_1_16', 'tariff_id_1_17', 'tariff_id_1_19',\n",
       "       'tariff_id_1_2', 'tariff_id_1_21', 'tariff_id_1_22', 'tariff_id_1_23',\n",
       "       'tariff_id_1_24', 'tariff_id_1_25', 'tariff_id_1_3', 'tariff_id_1_32',\n",
       "       'tariff_id_1_4', 'tariff_id_1_41', 'tariff_id_1_43', 'tariff_id_1_44',\n",
       "       'tariff_id_1_5', 'tariff_id_1_6', 'tariff_id_1_7', 'tariff_id_1_9',\n",
       "       'tariff_id_1_91', 'tariff_id_1_94', 'tariff_id_1_99', 'education_ACD',\n",
       "       'education_GRD', 'education_PGR', 'education_SCH', 'education_UGR',\n",
       "       'open_account_flg_0', 'open_account_flg_1'],\n",
       "      dtype='object')"
      ]
     },
     "execution_count": 54,
     "metadata": {},
     "output_type": "execute_result"
    }
   ],
   "source": [
    "data_raw_dummies.columns"
   ]
  },
  {
   "cell_type": "markdown",
   "id": "78384386",
   "metadata": {},
   "source": [
    "С помощью метода sample() случайным образом отберем 70% наблюдений из датафрейма data_raw_dummies в обучающий датафрейм train. В исходном датафрейме data_raw_dummies оставим только те наблюдения, индексные метки которых отличаются от индексных меток наблюдений, попавших в обучающий датафрейм train, и записываем контрольный датафрейм test. В итоге 30% наблюдений сформируют контрольную выборку. Для получения воспроизводимых результатов разбиения с помощью параметра random_state задаем стартовое значение генератора случайных чисел."
   ]
  },
  {
   "cell_type": "code",
   "execution_count": 55,
   "id": "3c637983",
   "metadata": {},
   "outputs": [],
   "source": [
    "train = data_raw_dummies.sample(frac = 0.7, random_state=200)\n",
    "test = data_raw_dummies.drop(train.index)"
   ]
  },
  {
   "cell_type": "code",
   "execution_count": 56,
   "id": "71e98d8b",
   "metadata": {},
   "outputs": [],
   "source": [
    "y_train = train.loc[:, 'open_account_flg_1']\n",
    "y_test = test.loc[:, 'open_account_flg_1']"
   ]
  },
  {
   "cell_type": "code",
   "execution_count": 57,
   "id": "addda3b1",
   "metadata": {},
   "outputs": [],
   "source": [
    "X_train = train.loc[:, 'age':'education_UGR']\n",
    "X_test = test.loc[:, 'age':'education_UGR']"
   ]
  },
  {
   "cell_type": "code",
   "execution_count": 58,
   "id": "c767d306",
   "metadata": {},
   "outputs": [
    {
     "data": {
      "text/plain": [
       "(119522, 51224)"
      ]
     },
     "execution_count": 58,
     "metadata": {},
     "output_type": "execute_result"
    }
   ],
   "source": [
    "N_train, _ = X_train.shape \n",
    "N_test,  _ = X_test.shape \n",
    "\n",
    "N_train, N_test"
   ]
  },
  {
   "cell_type": "code",
   "execution_count": 59,
   "id": "4759a720",
   "metadata": {},
   "outputs": [
    {
     "data": {
      "text/plain": [
       "(119522, 58)"
      ]
     },
     "execution_count": 59,
     "metadata": {},
     "output_type": "execute_result"
    }
   ],
   "source": [
    "X_train.shape"
   ]
  },
  {
   "cell_type": "markdown",
   "id": "869109b9",
   "metadata": {},
   "source": [
    "## 9. Классификация"
   ]
  },
  {
   "cell_type": "markdown",
   "id": "b374f7af",
   "metadata": {},
   "source": [
    "### 9.1. Метод k ближайших соседей (kNN,  knearest neighbours)"
   ]
  },
  {
   "cell_type": "code",
   "execution_count": 60,
   "id": "e0dd4778",
   "metadata": {},
   "outputs": [
    {
     "data": {
      "text/html": [
       "<style>#sk-container-id-1 {color: black;background-color: white;}#sk-container-id-1 pre{padding: 0;}#sk-container-id-1 div.sk-toggleable {background-color: white;}#sk-container-id-1 label.sk-toggleable__label {cursor: pointer;display: block;width: 100%;margin-bottom: 0;padding: 0.3em;box-sizing: border-box;text-align: center;}#sk-container-id-1 label.sk-toggleable__label-arrow:before {content: \"▸\";float: left;margin-right: 0.25em;color: #696969;}#sk-container-id-1 label.sk-toggleable__label-arrow:hover:before {color: black;}#sk-container-id-1 div.sk-estimator:hover label.sk-toggleable__label-arrow:before {color: black;}#sk-container-id-1 div.sk-toggleable__content {max-height: 0;max-width: 0;overflow: hidden;text-align: left;background-color: #f0f8ff;}#sk-container-id-1 div.sk-toggleable__content pre {margin: 0.2em;color: black;border-radius: 0.25em;background-color: #f0f8ff;}#sk-container-id-1 input.sk-toggleable__control:checked~div.sk-toggleable__content {max-height: 200px;max-width: 100%;overflow: auto;}#sk-container-id-1 input.sk-toggleable__control:checked~label.sk-toggleable__label-arrow:before {content: \"▾\";}#sk-container-id-1 div.sk-estimator input.sk-toggleable__control:checked~label.sk-toggleable__label {background-color: #d4ebff;}#sk-container-id-1 div.sk-label input.sk-toggleable__control:checked~label.sk-toggleable__label {background-color: #d4ebff;}#sk-container-id-1 input.sk-hidden--visually {border: 0;clip: rect(1px 1px 1px 1px);clip: rect(1px, 1px, 1px, 1px);height: 1px;margin: -1px;overflow: hidden;padding: 0;position: absolute;width: 1px;}#sk-container-id-1 div.sk-estimator {font-family: monospace;background-color: #f0f8ff;border: 1px dotted black;border-radius: 0.25em;box-sizing: border-box;margin-bottom: 0.5em;}#sk-container-id-1 div.sk-estimator:hover {background-color: #d4ebff;}#sk-container-id-1 div.sk-parallel-item::after {content: \"\";width: 100%;border-bottom: 1px solid gray;flex-grow: 1;}#sk-container-id-1 div.sk-label:hover label.sk-toggleable__label {background-color: #d4ebff;}#sk-container-id-1 div.sk-serial::before {content: \"\";position: absolute;border-left: 1px solid gray;box-sizing: border-box;top: 0;bottom: 0;left: 50%;z-index: 0;}#sk-container-id-1 div.sk-serial {display: flex;flex-direction: column;align-items: center;background-color: white;padding-right: 0.2em;padding-left: 0.2em;position: relative;}#sk-container-id-1 div.sk-item {position: relative;z-index: 1;}#sk-container-id-1 div.sk-parallel {display: flex;align-items: stretch;justify-content: center;background-color: white;position: relative;}#sk-container-id-1 div.sk-item::before, #sk-container-id-1 div.sk-parallel-item::before {content: \"\";position: absolute;border-left: 1px solid gray;box-sizing: border-box;top: 0;bottom: 0;left: 50%;z-index: -1;}#sk-container-id-1 div.sk-parallel-item {display: flex;flex-direction: column;z-index: 1;position: relative;background-color: white;}#sk-container-id-1 div.sk-parallel-item:first-child::after {align-self: flex-end;width: 50%;}#sk-container-id-1 div.sk-parallel-item:last-child::after {align-self: flex-start;width: 50%;}#sk-container-id-1 div.sk-parallel-item:only-child::after {width: 0;}#sk-container-id-1 div.sk-dashed-wrapped {border: 1px dashed gray;margin: 0 0.4em 0.5em 0.4em;box-sizing: border-box;padding-bottom: 0.4em;background-color: white;}#sk-container-id-1 div.sk-label label {font-family: monospace;font-weight: bold;display: inline-block;line-height: 1.2em;}#sk-container-id-1 div.sk-label-container {text-align: center;}#sk-container-id-1 div.sk-container {/* jupyter's `normalize.less` sets `[hidden] { display: none; }` but bootstrap.min.css set `[hidden] { display: none !important; }` so we also need the `!important` here to be able to override the default hidden behavior on the sphinx rendered scikit-learn.org. See: https://github.com/scikit-learn/scikit-learn/issues/21755 */display: inline-block !important;position: relative;}#sk-container-id-1 div.sk-text-repr-fallback {display: none;}</style><div id=\"sk-container-id-1\" class=\"sk-top-container\"><div class=\"sk-text-repr-fallback\"><pre>KNeighborsClassifier(n_neighbors=7)</pre><b>In a Jupyter environment, please rerun this cell to show the HTML representation or trust the notebook. <br />On GitHub, the HTML representation is unable to render, please try loading this page with nbviewer.org.</b></div><div class=\"sk-container\" hidden><div class=\"sk-item\"><div class=\"sk-estimator sk-toggleable\"><input class=\"sk-toggleable__control sk-hidden--visually\" id=\"sk-estimator-id-1\" type=\"checkbox\" checked><label for=\"sk-estimator-id-1\" class=\"sk-toggleable__label sk-toggleable__label-arrow\">KNeighborsClassifier</label><div class=\"sk-toggleable__content\"><pre>KNeighborsClassifier(n_neighbors=7)</pre></div></div></div></div></div>"
      ],
      "text/plain": [
       "KNeighborsClassifier(n_neighbors=7)"
      ]
     },
     "execution_count": 60,
     "metadata": {},
     "output_type": "execute_result"
    }
   ],
   "source": [
    "from sklearn.neighbors import KNeighborsClassifier\n",
    "\n",
    "model = KNeighborsClassifier(n_neighbors=7) # по умолчанию n_neighbors=5\n",
    "model.fit(X_train, y_train)"
   ]
  },
  {
   "cell_type": "code",
   "execution_count": 61,
   "id": "a113527f",
   "metadata": {},
   "outputs": [],
   "source": [
    "y_train_predict = model.predict(X_train)\n",
    "y_test_predict  = model.predict(X_test)\n",
    "\n",
    "err_train  = np.mean(y_train  != y_train_predict)\n",
    "err_train = 1 - model.score(X_train, y_train)\n",
    "\n",
    "err_test  = np.mean(y_test  != y_test_predict)\n",
    "err_test = 1 - model.score(X_test, y_test)"
   ]
  },
  {
   "cell_type": "code",
   "execution_count": 62,
   "id": "7b65fc96",
   "metadata": {},
   "outputs": [
    {
     "data": {
      "text/html": [
       "<div>\n",
       "<style scoped>\n",
       "    .dataframe tbody tr th:only-of-type {\n",
       "        vertical-align: middle;\n",
       "    }\n",
       "\n",
       "    .dataframe tbody tr th {\n",
       "        vertical-align: top;\n",
       "    }\n",
       "\n",
       "    .dataframe thead th {\n",
       "        text-align: right;\n",
       "    }\n",
       "</style>\n",
       "<table border=\"1\" class=\"dataframe\">\n",
       "  <thead>\n",
       "    <tr style=\"text-align: right;\">\n",
       "      <th></th>\n",
       "      <th>train</th>\n",
       "      <th>test</th>\n",
       "    </tr>\n",
       "  </thead>\n",
       "  <tbody>\n",
       "    <tr>\n",
       "      <th>k Nearest Neighbours_7</th>\n",
       "      <td>0.154407</td>\n",
       "      <td>0.183957</td>\n",
       "    </tr>\n",
       "  </tbody>\n",
       "</table>\n",
       "</div>"
      ],
      "text/plain": [
       "                           train      test\n",
       "k Nearest Neighbours_7  0.154407  0.183957"
      ]
     },
     "execution_count": 62,
     "metadata": {},
     "output_type": "execute_result"
    }
   ],
   "source": [
    "err_table = pd.DataFrame(columns=('train', 'test'))\n",
    "err_table.loc['k Nearest Neighbours_7', :] = (err_train, err_test)\n",
    "err_table"
   ]
  },
  {
   "cell_type": "code",
   "execution_count": 63,
   "id": "967b3ee6",
   "metadata": {},
   "outputs": [],
   "source": [
    "model = KNeighborsClassifier(n_neighbors=10) # по умолчанию n_neighbors=5\n",
    "model.fit(X_train, y_train)\n",
    "\n",
    "y_train_predict = model.predict(X_train)\n",
    "y_test_predict  = model.predict(X_test)\n",
    "\n",
    "err_train  = np.mean(y_train  != y_train_predict)\n",
    "err_train = 1 - model.score(X_train, y_train)\n",
    "\n",
    "err_test  = np.mean(y_test  != y_test_predict)\n",
    "err_test = 1 - model.score(X_test, y_test)"
   ]
  },
  {
   "cell_type": "code",
   "execution_count": 64,
   "id": "280db30a",
   "metadata": {},
   "outputs": [
    {
     "data": {
      "text/html": [
       "<div>\n",
       "<style scoped>\n",
       "    .dataframe tbody tr th:only-of-type {\n",
       "        vertical-align: middle;\n",
       "    }\n",
       "\n",
       "    .dataframe tbody tr th {\n",
       "        vertical-align: top;\n",
       "    }\n",
       "\n",
       "    .dataframe thead th {\n",
       "        text-align: right;\n",
       "    }\n",
       "</style>\n",
       "<table border=\"1\" class=\"dataframe\">\n",
       "  <thead>\n",
       "    <tr style=\"text-align: right;\">\n",
       "      <th></th>\n",
       "      <th>train</th>\n",
       "      <th>test</th>\n",
       "    </tr>\n",
       "  </thead>\n",
       "  <tbody>\n",
       "    <tr>\n",
       "      <th>k Nearest Neighbours_7</th>\n",
       "      <td>0.154407</td>\n",
       "      <td>0.183957</td>\n",
       "    </tr>\n",
       "    <tr>\n",
       "      <th>k Nearest Neighbours_10</th>\n",
       "      <td>0.162296</td>\n",
       "      <td>0.177397</td>\n",
       "    </tr>\n",
       "  </tbody>\n",
       "</table>\n",
       "</div>"
      ],
      "text/plain": [
       "                            train      test\n",
       "k Nearest Neighbours_7   0.154407  0.183957\n",
       "k Nearest Neighbours_10  0.162296  0.177397"
      ]
     },
     "execution_count": 64,
     "metadata": {},
     "output_type": "execute_result"
    }
   ],
   "source": [
    "err_table.loc['k Nearest Neighbours_10', :] = (err_train, err_test)\n",
    "err_table"
   ]
  },
  {
   "cell_type": "code",
   "execution_count": 65,
   "id": "2bb6c37e",
   "metadata": {},
   "outputs": [],
   "source": [
    "model = KNeighborsClassifier(n_neighbors=20) # по умолчанию n_neighbors=5\n",
    "model.fit(X_train, y_train)\n",
    "\n",
    "y_train_predict = model.predict(X_train)\n",
    "y_test_predict  = model.predict(X_test)\n",
    "\n",
    "err_train  = np.mean(y_train  != y_train_predict)\n",
    "err_train = 1 - model.score(X_train, y_train)\n",
    "\n",
    "err_test  = np.mean(y_test  != y_test_predict)\n",
    "err_test = 1 - model.score(X_test, y_test)"
   ]
  },
  {
   "cell_type": "code",
   "execution_count": 66,
   "id": "c206bfc9",
   "metadata": {},
   "outputs": [
    {
     "data": {
      "text/html": [
       "<div>\n",
       "<style scoped>\n",
       "    .dataframe tbody tr th:only-of-type {\n",
       "        vertical-align: middle;\n",
       "    }\n",
       "\n",
       "    .dataframe tbody tr th {\n",
       "        vertical-align: top;\n",
       "    }\n",
       "\n",
       "    .dataframe thead th {\n",
       "        text-align: right;\n",
       "    }\n",
       "</style>\n",
       "<table border=\"1\" class=\"dataframe\">\n",
       "  <thead>\n",
       "    <tr style=\"text-align: right;\">\n",
       "      <th></th>\n",
       "      <th>train</th>\n",
       "      <th>test</th>\n",
       "    </tr>\n",
       "  </thead>\n",
       "  <tbody>\n",
       "    <tr>\n",
       "      <th>k Nearest Neighbours_7</th>\n",
       "      <td>0.154407</td>\n",
       "      <td>0.183957</td>\n",
       "    </tr>\n",
       "    <tr>\n",
       "      <th>k Nearest Neighbours_10</th>\n",
       "      <td>0.162296</td>\n",
       "      <td>0.177397</td>\n",
       "    </tr>\n",
       "    <tr>\n",
       "      <th>k Nearest Neighbours_20</th>\n",
       "      <td>0.167475</td>\n",
       "      <td>0.17404</td>\n",
       "    </tr>\n",
       "  </tbody>\n",
       "</table>\n",
       "</div>"
      ],
      "text/plain": [
       "                            train      test\n",
       "k Nearest Neighbours_7   0.154407  0.183957\n",
       "k Nearest Neighbours_10  0.162296  0.177397\n",
       "k Nearest Neighbours_20  0.167475   0.17404"
      ]
     },
     "execution_count": 66,
     "metadata": {},
     "output_type": "execute_result"
    }
   ],
   "source": [
    "err_table.loc['k Nearest Neighbours_20', :] = (err_train, err_test)\n",
    "err_table"
   ]
  },
  {
   "cell_type": "markdown",
   "id": "b8eb3b7c",
   "metadata": {},
   "source": [
    "Были проведены эксперименты в которых изменилось количество соседей. Как видно из верхней таблицы метод ближайших соседей работал лучше когда число соседей равнялось 20."
   ]
  },
  {
   "cell_type": "markdown",
   "id": "6c4f4d43",
   "metadata": {},
   "source": [
    "### 9.2. Random Forest"
   ]
  },
  {
   "cell_type": "markdown",
   "id": "49c8dcb0",
   "metadata": {},
   "source": [
    "#### 1 способ :"
   ]
  },
  {
   "cell_type": "markdown",
   "id": "e666823d",
   "metadata": {},
   "source": [
    "Вычисление AUC или AUC-ROC (Area Under ROC Curve) - площадь под ROC-кривой. Обычно считают, что значение AUC от 0,9 до 1 соответствует отличной дискриминирующей способности модели, 0,8-0,9 - очень хорошей, 0,7-0,8 - хорошей, 0,6-0,7 - средней, 0,5-0,6 - неудовлетворительной."
   ]
  },
  {
   "cell_type": "markdown",
   "id": "8380119d",
   "metadata": {},
   "source": [
    "Импортируем функцию roc_auc_score(), которая будет вычислять AUC"
   ]
  },
  {
   "cell_type": "code",
   "execution_count": 67,
   "id": "8b339b29",
   "metadata": {},
   "outputs": [],
   "source": [
    "from sklearn.metrics import roc_auc_score"
   ]
  },
  {
   "cell_type": "markdown",
   "id": "5398c1b4",
   "metadata": {},
   "source": [
    "Построим модель случайного леса, уменьшив глубину деревьев. Вычислим AUC по обычному методу и методу OOB"
   ]
  },
  {
   "cell_type": "code",
   "execution_count": 68,
   "id": "967f60ae",
   "metadata": {},
   "outputs": [],
   "source": [
    "#импортируем класс RandomForestClassifier\n",
    "from sklearn.ensemble import RandomForestClassifier\n",
    "#создаем экземпляр класса RandomForestClassifier\n",
    "forest = RandomForestClassifier(n_estimators = 800, max_depth = 17,\n",
    "                                 random_state = 152, n_jobs = -1)"
   ]
  },
  {
   "cell_type": "code",
   "execution_count": 69,
   "id": "18d1a71a",
   "metadata": {},
   "outputs": [
    {
     "name": "stdout",
     "output_type": "stream",
     "text": [
      "AUC на обучающей выборке по обычному методу: 0.885\n",
      "AUC на контрольной выборке: 0.760\n"
     ]
    }
   ],
   "source": [
    "#строим модель \n",
    "forest.fit(X_train, y_train)\n",
    "#оцениваем дискриминирующую способность модели случайного леса\n",
    "print(\"AUC на обучающей выборке по обычному методу: {:.3f}\".format(\n",
    "    roc_auc_score(y_train, forest.predict_proba(X_train)[:, 1])))\n",
    "#print(\"AUC на обучающей выборке по методу OOB: {:.3f}\".format(\n",
    "#    roc_auc_score(y_train, forest.oob_decision_function_[:, 1])))\n",
    "print(\"AUC на контрольной выборке: {:.3f}\".format(\n",
    "    roc_auc_score(y_test, forest.predict_proba(X_test)[:, 1])))"
   ]
  },
  {
   "cell_type": "markdown",
   "id": "f3e5face",
   "metadata": {},
   "source": [
    "#### 2 способ :"
   ]
  },
  {
   "cell_type": "code",
   "execution_count": 70,
   "id": "a784bcc7",
   "metadata": {},
   "outputs": [
    {
     "data": {
      "text/html": [
       "<div>\n",
       "<style scoped>\n",
       "    .dataframe tbody tr th:only-of-type {\n",
       "        vertical-align: middle;\n",
       "    }\n",
       "\n",
       "    .dataframe tbody tr th {\n",
       "        vertical-align: top;\n",
       "    }\n",
       "\n",
       "    .dataframe thead th {\n",
       "        text-align: right;\n",
       "    }\n",
       "</style>\n",
       "<table border=\"1\" class=\"dataframe\">\n",
       "  <thead>\n",
       "    <tr style=\"text-align: right;\">\n",
       "      <th></th>\n",
       "      <th>train</th>\n",
       "      <th>test</th>\n",
       "    </tr>\n",
       "  </thead>\n",
       "  <tbody>\n",
       "    <tr>\n",
       "      <th>k Nearest Neighbours_7</th>\n",
       "      <td>0.154407</td>\n",
       "      <td>0.183957</td>\n",
       "    </tr>\n",
       "    <tr>\n",
       "      <th>k Nearest Neighbours_10</th>\n",
       "      <td>0.162296</td>\n",
       "      <td>0.177397</td>\n",
       "    </tr>\n",
       "    <tr>\n",
       "      <th>k Nearest Neighbours_20</th>\n",
       "      <td>0.167475</td>\n",
       "      <td>0.17404</td>\n",
       "    </tr>\n",
       "    <tr>\n",
       "      <th>Random Forest</th>\n",
       "      <td>0.138895</td>\n",
       "      <td>0.170467</td>\n",
       "    </tr>\n",
       "  </tbody>\n",
       "</table>\n",
       "</div>"
      ],
      "text/plain": [
       "                            train      test\n",
       "k Nearest Neighbours_7   0.154407  0.183957\n",
       "k Nearest Neighbours_10  0.162296  0.177397\n",
       "k Nearest Neighbours_20  0.167475   0.17404\n",
       "Random Forest            0.138895  0.170467"
      ]
     },
     "execution_count": 70,
     "metadata": {},
     "output_type": "execute_result"
    }
   ],
   "source": [
    "from sklearn.ensemble import RandomForestClassifier\n",
    "\n",
    "model = RandomForestClassifier(n_estimators=800, max_depth = 17,\n",
    "                                random_state = 152, n_jobs = -1) # по умолчанию n_estimators=100\n",
    "model.fit(X_train, y_train)\n",
    "\n",
    "y_train_predict = model.predict(X_train)\n",
    "y_test_predict  = model.predict(X_test)\n",
    "\n",
    "err_train  = np.mean(y_train  != y_train_predict)\n",
    "err_train = 1 - model.score(X_train, y_train)\n",
    "\n",
    "err_test  = np.mean(y_test  != y_test_predict)\n",
    "err_test = 1 - model.score(X_test, y_test)\n",
    "\n",
    "err_table.loc['Random Forest', :] = (err_train, err_test)\n",
    "err_table"
   ]
  },
  {
   "cell_type": "markdown",
   "id": "7e2f8db2",
   "metadata": {},
   "source": [
    "## Общие выводы"
   ]
  },
  {
   "cell_type": "markdown",
   "id": "6b0d1b41",
   "metadata": {},
   "source": [
    "В последних экспериментах использовались разные методы обучения. Ошибки обучения приведены в таблице. Как видно самым лучшим методом оказался метод Random Forest, где ошибка на тренировочной выборке составила 13,9% и 17% на тестовой."
   ]
  }
 ],
 "metadata": {
  "kernelspec": {
   "display_name": "Python 3 (ipykernel)",
   "language": "python",
   "name": "python3"
  },
  "language_info": {
   "codemirror_mode": {
    "name": "ipython",
    "version": 3
   },
   "file_extension": ".py",
   "mimetype": "text/x-python",
   "name": "python",
   "nbconvert_exporter": "python",
   "pygments_lexer": "ipython3",
   "version": "3.10.4"
  }
 },
 "nbformat": 4,
 "nbformat_minor": 5
}
